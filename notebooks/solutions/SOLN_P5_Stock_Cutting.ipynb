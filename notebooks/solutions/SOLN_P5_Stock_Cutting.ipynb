{
 "cells": [
  {
   "cell_type": "markdown",
   "id": "a694f216-34e7-495f-b310-097e2db775a4",
   "metadata": {},
   "source": [
    "<a href=\"https://colab.research.google.com/github/wesleybeckner/deka/blob/main/notebooks/solutions/SOLN_P5_Stock_Cutting.ipynb\" target=\"_parent\"><img src=\"https://colab.research.google.com/assets/colab-badge.svg\" alt=\"Open In Colab\"/></a>"
   ]
  },
  {
   "cell_type": "markdown",
   "id": "3f86d94d-6e79-4392-888a-dac7a773f2ac",
   "metadata": {},
   "source": [
    "# Stock Cutting Part 5:<br> Edge Cases and API\n",
    "\n",
    "<br>\n",
    "\n",
    "---\n",
    "\n",
    "<br>\n",
    "\n",
    "In this project notebook we'll be \n",
    "\n",
    "<br>\n",
    "\n",
    "---"
   ]
  },
  {
   "cell_type": "markdown",
   "id": "3c429358-c787-40ab-865d-a3efed444931",
   "metadata": {},
   "source": [
    "## 1.0: Import Functions and Libraries"
   ]
  },
  {
   "cell_type": "code",
   "execution_count": 40,
   "id": "51a619cc-8067-4c8a-b664-e94b1133d5b3",
   "metadata": {},
   "outputs": [],
   "source": [
    "from collections import Counter\n",
    "from itertools import combinations\n",
    "from scipy.optimize import linprog\n",
    "from math import ceil\n",
    "import numpy as np\n",
    "\n",
    "def solveX(patterns, widths, q):\n",
    "    \"\"\"\n",
    "    solves the linprog (minimum doffs needed given set of patterns)\n",
    "    as well as the dual problem\n",
    "    \"\"\"\n",
    "    lhs_ineq = []\n",
    "    for pattern in patterns:\n",
    "\n",
    "        # inset will be our full build of a given \"pattern\"\n",
    "        inset = []\n",
    "        for width in widths:\n",
    "\n",
    "            # try to access the slitwidth counts, otherwise\n",
    "            # it means none of that slitwidth was included \n",
    "            try:\n",
    "                inset.append(-pattern[0][width])\n",
    "            except:\n",
    "                inset.append(0)\n",
    "\n",
    "        # add inset to the set of equations (patterns)        \n",
    "        lhs_ineq.append(inset)\n",
    "    lhs_ineq = np.array(lhs_ineq).T.tolist()\n",
    "\n",
    "    # rhs is the min orders we need for each slitwidth\n",
    "    rhs_ineq = [-i for i in q]\n",
    "\n",
    "    # min x1 + x2 + .... Xn\n",
    "    obj = np.ones(len(lhs_ineq[0]))\n",
    "\n",
    "    # linprog will determine the minimum number we need\n",
    "    # of each pattern\n",
    "    result = linprog(c=obj,\n",
    "            A_ub=lhs_ineq,\n",
    "            b_ub=rhs_ineq,\n",
    "            method=\"revised simplex\")\n",
    "\n",
    "    X = [ceil(i) for i in result['x']]\n",
    "    \n",
    "    \n",
    "    dual_problem = linprog(c=rhs_ineq,\n",
    "        A_ub=-np.array(lhs_ineq).T,\n",
    "        b_ub=obj,\n",
    "        method=\"revised simplex\")\n",
    "    val = [i for i in dual_problem['x']]\n",
    "    \n",
    "    return X, val\n",
    "\n",
    "def pack_knap(wt, val, W):\n",
    "    new_wt = []\n",
    "    new_val = []\n",
    "    for w, v in zip(wt, val):\n",
    "        new_wt += [w]*int(W/w)\n",
    "        new_val += [v]*int(W/w)\n",
    "    wt = new_wt\n",
    "    val = new_val\n",
    "    t = initt(W, val)\n",
    "    best = knapsack(wt, val, W, len(val), t)\n",
    "    loss = W - best\n",
    "    sack = reconstruct(len(val), W, t, wt)\n",
    "    pattern = Counter([wt[i] for i in list(sack)])\n",
    "    \n",
    "    value = Counter([val[i] for i in list(sack)])\n",
    "    \n",
    "\n",
    "    total = 0\n",
    "    for worth, multiple in value.items():\n",
    "        total += worth * multiple\n",
    "    return pattern, total\n",
    "\n",
    "def seed_patterns(_widths, W, max_unique_layouts=3):\n",
    "    patterns = []\n",
    "    for current_max in range(1, max_unique_layouts+1):\n",
    "        pre_sacks = list(combinations(_widths, current_max))\n",
    "        for widths in pre_sacks:\n",
    "            new = []\n",
    "            for w in widths:\n",
    "                new += [w]*int(W/w)\n",
    "            widths = new\n",
    "\n",
    "            t = initt(W, widths)\n",
    "            best = knapsack(widths, widths, W, len(widths), t)\n",
    "            loss = W - best\n",
    "            sack = reconstruct(len(widths), W, t, widths)\n",
    "            pattern = Counter([widths[i] for i in list(sack)])\n",
    "            if [pattern, loss] not in patterns:\n",
    "                patterns.append([pattern, loss])\n",
    "    return patterns\n",
    "\n",
    "def initt(W, val):\n",
    "    return [[None for i in range(W + 1)] for j in range(len(val) + 1)]\n",
    "\n",
    "def knapsack(wt, val, w, n, t):\n",
    "    # n, w will be the row, column of our table\n",
    "    # solve the basecase. \n",
    "    if w == 0 or n == 0:\n",
    "        return 0\n",
    "\n",
    "    elif t[n][w] != None:\n",
    "        return t[n][w]\n",
    "\n",
    "    # now include the conditionals\n",
    "    if wt[n-1] <= w:\n",
    "        t[n][w] = max(\n",
    "            knapsack(wt, val, w, n-1, t),\n",
    "            knapsack(wt, val, w-wt[n-1], n-1, t) + val[n-1])\n",
    "        return t[n][w]\n",
    "\n",
    "    elif wt[n-1] > w:\n",
    "        t[n][w] = knapsack(wt, val, w, n-1, t)\n",
    "        return t[n][w]\n",
    "    \n",
    "def reconstruct(N, W, t, wt):\n",
    "    recon = set()\n",
    "    for j in range(N)[::-1]:\n",
    "        if (t[j+1][W] not in t[j]) and (t[j+1][W] != 0):\n",
    "            recon.add(j)\n",
    "            W = W - wt[j] # move columns in table lookup\n",
    "        if W < 0:\n",
    "            break\n",
    "        else:\n",
    "            continue\n",
    "    return recon\n",
    "\n",
    "def test_small_bag():\n",
    "    # the problem parameters\n",
    "    val = [60, 50, 70, 30]\n",
    "    wt = [5, 3, 4, 2]\n",
    "    W = 5\n",
    "\n",
    "    # the known solution\n",
    "    max_val = 80\n",
    "    max_items = [50, 30]\n",
    "\n",
    "    t = initt(W, val)\n",
    "    best = knapsack(wt, val, W, len(val), t)\n",
    "    sack = reconstruct(len(val), W, t, wt)\n",
    "    pattern = Counter([val[i] for i in list(sack)])\n",
    "\n",
    "    assert best == max_val, \"Optimal value not found\"\n",
    "    print(\"Optimal value found\")\n",
    "\n",
    "    assert list(pattern.keys()) == max_items, \"Optimal items not found\"\n",
    "    print(\"Optimal items found\")\n",
    "    \n",
    "def test_val_weight_equality():\n",
    "    # the problem parameters\n",
    "    val = wt = [2, 2, 2, 2, 5, 5, 5, 5]\n",
    "    W = 14\n",
    "\n",
    "    # the known solution\n",
    "    max_val = 14\n",
    "    max_items = Counter([5, 5, 2, 2])\n",
    "\n",
    "    t = initt(W, val)\n",
    "    best = knapsack(wt, val, W, len(val), t)\n",
    "    sack = reconstruct(len(val), W, t, wt)\n",
    "    pattern = Counter([val[i] for i in list(sack)])\n",
    "\n",
    "    assert best == max_val, \"Optimal value not found\"\n",
    "    print(\"Optimal value found\")\n",
    "\n",
    "    assert pattern == max_items, \"Optimal items not found\"\n",
    "    print(\"Optimal items found\")\n",
    "\n",
    "def test_simple_stock_cutting():\n",
    "    q = [80, 50, 100]\n",
    "    widths = w = [4, 6, 7]\n",
    "    W = 15\n",
    "    ans = 96\n",
    "\n",
    "    patterns = seed_patterns(widths, W, max_unique_layouts=1)\n",
    "\n",
    "    while True:\n",
    "        X, val = solveX(patterns, widths, q)\n",
    "        pattern, total = pack_knap(w, val, W)\n",
    "        if total > 1:\n",
    "            patterns.append([pattern, 0])\n",
    "            continue\n",
    "        break\n",
    "         \n",
    "    assert sum(X) == ans, \"Optimal doffs not found\"\n",
    "    print(\"test passed\")\n",
    "    print(f\"total doffs: {sum(X)}\", end=\"\\n\\n\")\n",
    "    for quant, pattern in zip(X, patterns):\n",
    "        if quant > 0:\n",
    "            print(f\"{quant}, {pattern[0]}\")\n",
    "            \n",
    "def test_stock_cutting_2():\n",
    "    widths = [i+j for i, j in zip ([2, 2, 2], [170, 234, 158])]\n",
    "    q = [879, 244, 181]\n",
    "    W = 4160\n",
    "    ans = 59\n",
    "\n",
    "    patterns = seed_patterns(widths, W, max_unique_layouts=1)\n",
    "\n",
    "    while True:\n",
    "        X, val = solveX(patterns, widths, q)\n",
    "        pattern, total = pack_knap(widths, val, W)\n",
    "        if total > 1:\n",
    "            patterns.append([pattern, 0])\n",
    "            continue\n",
    "        break\n",
    "\n",
    "    assert sum(X) == ans, \"Optimal doffs not found\"\n",
    "    print(\"test passed\")\n",
    "    print(f\"total doffs: {sum(X)}\", end=\"\\n\\n\")\n",
    "    for quant, pattern in zip(X, patterns):\n",
    "        if quant > 0:\n",
    "            print(f\"{quant}, {pattern[0]}\")"
   ]
  },
  {
   "cell_type": "markdown",
   "id": "b79db0c1-2221-40ea-993e-246a0306fe7a",
   "metadata": {},
   "source": [
    "run tests"
   ]
  },
  {
   "cell_type": "code",
   "execution_count": 41,
   "id": "959fca52-4bd8-468f-b9fd-cf8d0452b9dc",
   "metadata": {},
   "outputs": [
    {
     "name": "stdout",
     "output_type": "stream",
     "text": [
      "Optimal value found\n",
      "Optimal items found\n",
      "\n",
      "Optimal value found\n",
      "Optimal items found\n",
      "\n",
      "test passed\n",
      "total doffs: 96\n",
      "\n",
      "5, Counter({6: 2})\n",
      "50, Counter({7: 2})\n",
      "41, Counter({4: 2, 6: 1})\n",
      "\n",
      "test passed\n",
      "total doffs: 59\n",
      "\n",
      "39, Counter({172: 20, 160: 3, 236: 1})\n",
      "16, Counter({236: 12, 172: 4, 160: 4})\n",
      "4, Counter({172: 15, 236: 6, 160: 1})\n"
     ]
    }
   ],
   "source": [
    "test_val_weight_equality()\n",
    "print()\n",
    "test_small_bag()\n",
    "print()\n",
    "test_simple_stock_cutting()\n",
    "print()\n",
    "test_stock_cutting_2()"
   ]
  },
  {
   "cell_type": "markdown",
   "id": "b4a259bb-9e7a-47f8-932b-c21003b0cf55",
   "metadata": {},
   "source": [
    "## When we need to limit the number of patterns in the layouts"
   ]
  },
  {
   "cell_type": "markdown",
   "id": "5d588135-1e97-4361-8609-e0e73f3b723e",
   "metadata": {},
   "source": [
    "let's suppose we want a solution that only has 2 patterns in any given layout. When using the column generation method we used `seed_patterns` to create the naive layouts:"
   ]
  },
  {
   "cell_type": "code",
   "execution_count": 42,
   "id": "b10c3927-7729-4037-961f-13db12d849d4",
   "metadata": {},
   "outputs": [
    {
     "data": {
      "text/plain": [
       "[[Counter({4: 3}), 3], [Counter({6: 2}), 3], [Counter({7: 2}), 1]]"
      ]
     },
     "execution_count": 42,
     "metadata": {},
     "output_type": "execute_result"
    }
   ],
   "source": [
    "q = [80, 50, 100]\n",
    "widths = w = [4, 6, 7]\n",
    "W = 15\n",
    "ans = 96\n",
    "\n",
    "patterns = seed_patterns(widths, W, max_unique_layouts=1)\n",
    "patterns"
   ]
  },
  {
   "cell_type": "markdown",
   "id": "267c2369-7e50-4638-84c8-d8f252576252",
   "metadata": {},
   "source": [
    "Now, however, we'd like to include layouts that are combinations of each width. Let's start with just 2 layouts per pattern:"
   ]
  },
  {
   "cell_type": "code",
   "execution_count": 43,
   "id": "5aca6948-a075-46a0-aad9-c8ef8e810f50",
   "metadata": {},
   "outputs": [
    {
     "data": {
      "text/plain": [
       "[[Counter({4: 3}), 3],\n",
       " [Counter({6: 2}), 3],\n",
       " [Counter({7: 2}), 1],\n",
       " [Counter({4: 2, 6: 1}), 1],\n",
       " [Counter({4: 2, 7: 1}), 0]]"
      ]
     },
     "execution_count": 43,
     "metadata": {},
     "output_type": "execute_result"
    }
   ],
   "source": [
    "q = [80, 50, 100]\n",
    "widths = w = [4, 6, 7]\n",
    "W = 15\n",
    "ans = 96\n",
    "\n",
    "patterns = seed_patterns(widths, W, max_unique_layouts=2)\n",
    "patterns"
   ]
  },
  {
   "cell_type": "markdown",
   "id": "632edf79-ccf8-4b79-bc9e-d4c407f0c03f",
   "metadata": {},
   "source": [
    "The trailing numbers after the Counter object tell us the remainder on each pattern. We can now use these in our linear programming optimization step to determine how these layouts can be combined to fullfill the order.\n",
    "\n",
    "Because we are not allowing the knapsack problem to deliver any amount of unique widths in a pattern, we will not be using the column generation method. Instead we send the layouts we've created to the linear programming optimization step and take the best answer we can get:"
   ]
  },
  {
   "cell_type": "code",
   "execution_count": 44,
   "id": "21b7690c-0c8d-4fba-aaa4-fb90dd5c0197",
   "metadata": {},
   "outputs": [
    {
     "name": "stdout",
     "output_type": "stream",
     "text": [
      "test passed\n",
      "total doffs: 96\n",
      "\n",
      "5, Counter({6: 2})\n",
      "50, Counter({7: 2})\n",
      "41, Counter({4: 2, 6: 1})\n"
     ]
    }
   ],
   "source": [
    "X, val = solveX(patterns, widths, q)\n",
    "assert sum(X) == ans, \"Optimal doffs not found\"\n",
    "print(\"test passed\")\n",
    "print(f\"total doffs: {sum(X)}\", end=\"\\n\\n\")\n",
    "for quant, pattern in zip(X, patterns):\n",
    "    if quant > 0:\n",
    "        print(f\"{quant}, {pattern[0]}\")"
   ]
  },
  {
   "cell_type": "markdown",
   "id": "96f47c20-fba1-4dd8-9d1d-a85732880f45",
   "metadata": {},
   "source": [
    "Incidentally the solution is the same because the column generation method solution did not have any patterns with more than 2 layouts. Let's take another example with the second unit test parameters:"
   ]
  },
  {
   "cell_type": "code",
   "execution_count": 45,
   "id": "66f9792f-9f49-44ff-ba0a-0edbbd421a6a",
   "metadata": {},
   "outputs": [
    {
     "data": {
      "text/plain": [
       "[[Counter({172: 24}), 32],\n",
       " [Counter({236: 17}), 148],\n",
       " [Counter({160: 26}), 0],\n",
       " [Counter({172: 20, 236: 3}), 12]]"
      ]
     },
     "metadata": {},
     "output_type": "display_data"
    },
    {
     "name": "stdout",
     "output_type": "stream",
     "text": [
      "\n",
      "test passed\n",
      "total doffs: 58\n",
      "\n",
      "7, Counter({236: 17})\n",
      "7, Counter({160: 26})\n",
      "44, Counter({172: 20, 236: 3})\n"
     ]
    }
   ],
   "source": [
    "widths = [i+j for i, j in zip ([2, 2, 2], [170, 234, 158])]\n",
    "q = [879, 244, 181]\n",
    "W = 4160\n",
    "ans = 59\n",
    "\n",
    "patterns = seed_patterns(widths, W, max_unique_layouts=2)\n",
    "display(patterns)\n",
    "print()\n",
    "X, val = solveX(patterns, widths, q)\n",
    "assert sum(X) <= ans, \"Optimal doffs not found\"\n",
    "print(\"test passed\")\n",
    "print(f\"total doffs: {sum(X)}\", end=\"\\n\\n\")\n",
    "for quant, pattern in zip(X, patterns):\n",
    "    if quant > 0:\n",
    "        print(f\"{quant}, {pattern[0]}\")"
   ]
  },
  {
   "cell_type": "markdown",
   "id": "65bc3336-33ba-4b51-8ecb-e51c14a16acf",
   "metadata": {},
   "source": [
    "In this case, we actually get an answer that is better than the column generation method!"
   ]
  },
  {
   "cell_type": "markdown",
   "id": "dea08a6a-d0de-4321-8273-eaed3c20c118",
   "metadata": {},
   "source": [
    "## When we need to limit the number of layouts in a solution"
   ]
  },
  {
   "cell_type": "markdown",
   "id": "41c8dc67-79b0-4c40-a254-5533cc806624",
   "metadata": {},
   "source": [
    "When we need to limit the total number of layouts in a solution, we will have to make multiple calls to the linear programming step and compare the results of each call. \n",
    "\n",
    "Let's say we are not limited by the number of layouts per pattern. We would then want to send all permutations of the following to the linear programming step:"
   ]
  },
  {
   "cell_type": "code",
   "execution_count": 46,
   "id": "6bf2129c-c9a2-4045-b4b9-48c940676a88",
   "metadata": {},
   "outputs": [
    {
     "data": {
      "text/plain": [
       "[[Counter({172: 24}), 32],\n",
       " [Counter({236: 17}), 148],\n",
       " [Counter({160: 26}), 0],\n",
       " [Counter({172: 20, 236: 3}), 12],\n",
       " [Counter({172: 4, 236: 12, 160: 4}), 0]]"
      ]
     },
     "metadata": {},
     "output_type": "display_data"
    }
   ],
   "source": [
    "widths = [i+j for i, j in zip ([2, 2, 2], [170, 234, 158])]\n",
    "q = [879, 244, 181]\n",
    "W = 4160\n",
    "ans = 59\n",
    "\n",
    "patterns = seed_patterns(widths, W, max_unique_layouts=3)\n",
    "display(patterns)"
   ]
  },
  {
   "cell_type": "code",
   "execution_count": 54,
   "id": "fdda2aa8-246f-4470-8659-dc05ff6901cb",
   "metadata": {},
   "outputs": [
    {
     "name": "stdout",
     "output_type": "stream",
     "text": [
      "([Counter({172: 24}), 32],)\n",
      "([Counter({236: 17}), 148],)\n",
      "([Counter({160: 26}), 0],)\n",
      "([Counter({172: 20, 236: 3}), 12],)\n",
      "([Counter({236: 12, 172: 4, 160: 4}), 0],)\n",
      "\n",
      "([Counter({172: 24}), 32], [Counter({236: 17}), 148])\n",
      "([Counter({172: 24}), 32], [Counter({160: 26}), 0])\n",
      "([Counter({172: 24}), 32], [Counter({172: 20, 236: 3}), 12])\n",
      "([Counter({172: 24}), 32], [Counter({236: 12, 172: 4, 160: 4}), 0])\n",
      "([Counter({236: 17}), 148], [Counter({160: 26}), 0])\n",
      "([Counter({236: 17}), 148], [Counter({172: 20, 236: 3}), 12])\n",
      "([Counter({236: 17}), 148], [Counter({236: 12, 172: 4, 160: 4}), 0])\n",
      "([Counter({160: 26}), 0], [Counter({172: 20, 236: 3}), 12])\n",
      "([Counter({160: 26}), 0], [Counter({236: 12, 172: 4, 160: 4}), 0])\n",
      "([Counter({172: 20, 236: 3}), 12], [Counter({236: 12, 172: 4, 160: 4}), 0])\n",
      "\n"
     ]
    }
   ],
   "source": [
    "max_patterns = 2\n",
    "\n",
    "# current_max will account for all max_patterns and anything less\n",
    "for current_max in range(1, max_patterns+1):\n",
    "    \n",
    "    # our pre_sacks contains the collection of combinations\n",
    "    pre_sacks = list(combinations(patterns, current_max))\n",
    "    \n",
    "    # the sack is what we will send to the lin prog program\n",
    "    # we will borrow from column_gen to supplement any pattern \n",
    "    # combinations that could use an extra layout (to get to\n",
    "    # the max_patterns value)\n",
    "    for sack in pre_sacks:\n",
    "        print(sack)\n",
    "    print()"
   ]
  },
  {
   "cell_type": "markdown",
   "id": "3299327b-4e36-4c0d-98e4-bd781e58edc1",
   "metadata": {},
   "source": [
    "Taking those combinations into effect now:"
   ]
  },
  {
   "cell_type": "code",
   "execution_count": 77,
   "id": "7149178e-6bf6-453e-b5f1-9488415bcd79",
   "metadata": {},
   "outputs": [
    {
     "name": "stdout",
     "output_type": "stream",
     "text": [
      "total doffs: 263\n",
      "82, Counter({172: 20, 236: 3})\n",
      "181, Counter({160: 1})\n",
      "\n",
      "total doffs: 76\n",
      "46, Counter({236: 12, 172: 4, 160: 4})\n",
      "30, Counter({172: 24})\n",
      "\n",
      "total doffs: 76\n",
      "30, Counter({172: 24})\n",
      "46, Counter({236: 12, 172: 4, 160: 4})\n",
      "\n",
      "total doffs: 220\n",
      "220, Counter({236: 12, 172: 4, 160: 4})\n",
      "\n",
      "total doffs: 89\n",
      "7, Counter({160: 26})\n",
      "82, Counter({172: 20, 236: 3})\n",
      "\n",
      "total doffs: 220\n",
      "220, Counter({236: 12, 172: 4, 160: 4})\n",
      "\n",
      "total doffs: 81\n",
      "35, Counter({172: 20, 236: 3})\n",
      "46, Counter({236: 12, 172: 4, 160: 4})\n",
      "\n"
     ]
    }
   ],
   "source": [
    "max_patterns = 2\n",
    "\n",
    "# current_max will account for all max_patterns and anything less\n",
    "for current_max in range(1, max_patterns+1):\n",
    "    \n",
    "    # our pre_sacks contains the collection of combinations\n",
    "    pre_sacks = list(combinations(patterns, current_max))\n",
    "    \n",
    "    # the sack is what we will send to the lin prog program\n",
    "    # we will borrow from column_gen to supplement any pattern \n",
    "    # combinations that could use an extra layout (to get to\n",
    "    # the max_patterns value)\n",
    "    for sack in pre_sacks:\n",
    "        sack = list(sack)\n",
    "        while True:\n",
    "            X, val = solveX(sack, widths, q)\n",
    "            pattern, total = pack_knap(widths, val, W)\n",
    "            if (total > 1) and (len(sack) < max_patterns):\n",
    "                sack.append([pattern, 0])\n",
    "                continue\n",
    "            break\n",
    "        if sum(X) > 0:\n",
    "            # print(total)\n",
    "            # print(len(sack))\n",
    "            print(f\"total doffs: {sum(X)}\")\n",
    "            for quant, pattern in zip(X, sack):\n",
    "                if quant > 0:\n",
    "                    print(f\"{quant}, {pattern[0]}\")\n",
    "            print()"
   ]
  },
  {
   "cell_type": "markdown",
   "id": "0c13ae47-dd70-450b-9fbc-83e0d52d4aae",
   "metadata": {},
   "source": [
    "## When we need a single layout"
   ]
  },
  {
   "cell_type": "code",
   "execution_count": 78,
   "id": "b3d3cd02-1baf-4be0-b8f8-3a9e9373676f",
   "metadata": {},
   "outputs": [],
   "source": [
    "def make_best_pattern(q, w, n, usable_width=4160, verbiose=True):\n",
    "    \"\"\"\n",
    "    Creates the best possible pattern such that all orders are fullfilled in a single\n",
    "    layout\n",
    "\n",
    "    Parameters\n",
    "    ----------\n",
    "    q: list\n",
    "        rolls required (in jumbo lengths)\n",
    "    w: list\n",
    "        widths required\n",
    "    n: list\n",
    "        neckins for widths\n",
    "    usable_width: int\n",
    "        jumbo/doff usable width\n",
    "\n",
    "    Returns\n",
    "    -------\n",
    "    layout: list\n",
    "        cuts for jumbo for each width (no width is excluded)\n",
    "    \"\"\"\n",
    "\n",
    "    # if not all slits can fit in a single bin, do not return a single optimum layout\n",
    "    if np.sum([n,w]) > usable_width:\n",
    "        return None\n",
    "\n",
    "    layout = [max(1, math.floor(i/sum(q)*usable_width/j)) for i,j in zip(q,w)]\n",
    "\n",
    "\n",
    "    # give priority to widths that had to round down the most\n",
    "    # when filling up the rest of the pattern\n",
    "    remainder = [math.remainder(i/sum(q)*usable_width/j, 1) if (math.remainder(i/sum(q)*usable_width/j, 1)\n",
    "                                                        < 0) else -1 for i,j in zip(q,w) ]\n",
    "    order = np.argsort(remainder)\n",
    "    # sometimes the floor still puts us over\n",
    "    while usable_width - sum([i*j for i,j in zip(layout,w)]) < 0:\n",
    "        layout[np.argmax(layout)] -= 1\n",
    "\n",
    "    while (usable_width - sum([i*j for i,j in zip(layout,w)])) > min(w):\n",
    "        for i in order[::-1]:\n",
    "            layout[i] += 1\n",
    "            if usable_width - sum([i*j for i,j in zip(layout,w)]) < 0:\n",
    "                layout[i] -= 1\n",
    "\n",
    "    # compute the loss for the final layout\n",
    "    layout_loss = usable_width - sum([i*j for i,j in zip(layout,w)])\n",
    "    if verbiose:\n",
    "        print(\"layout pattern: {}\".format(dict(zip([i-j for i,j in zip(w,n)],layout))))\n",
    "        print(\"pattern loss: {:0.2f} %\".format(layout_loss/usable_width*100))\n",
    "\n",
    "    # sometimes all orders can't be fullfilled in a single layout\n",
    "    if any([i == 0 for i in layout]):\n",
    "        return layout\n",
    "    else:\n",
    "        # multiply to get the minimum doffs required\n",
    "        # layout * doffs > q\n",
    "        doffs = max([math.ceil(i/j) for i,j in zip(q, layout)])\n",
    "        if verbiose:\n",
    "            print(\"minimum doffs to fill order: {}\".format(doffs))\n",
    "\n",
    "        # what inventory is created\n",
    "        inventory = dict(zip([i-j for i,j in zip(w,n)],[i*doffs-j for i,j in zip(layout,q)]))\n",
    "        if verbiose:\n",
    "            print(\"inventory created: {}\".format(inventory))\n",
    "\n",
    "    return layout"
   ]
  },
  {
   "cell_type": "code",
   "execution_count": 81,
   "id": "7ddbda99-0a0a-41df-9966-417f7a58c958",
   "metadata": {},
   "outputs": [
    {
     "name": "stdout",
     "output_type": "stream",
     "text": [
      "layout pattern: {168: 16, 232: 3, 156: 4}\n",
      "pattern loss: 2.55 %\n",
      "minimum doffs to fill order: 82\n",
      "inventory created: {168: 433, 232: 2, 156: 147}\n"
     ]
    },
    {
     "data": {
      "text/plain": [
       "[16, 3, 4]"
      ]
     },
     "execution_count": 81,
     "metadata": {},
     "output_type": "execute_result"
    }
   ],
   "source": [
    "widths = [170, 234, 158]\n",
    "n = [2, 2, 2]\n",
    "q = [879, 244, 181]\n",
    "W = 4160\n",
    "ans = 59\n",
    "\n",
    "import math\n",
    "make_best_pattern(q, widths, n, usable_width=W, verbiose=True)"
   ]
  }
 ],
 "metadata": {
  "kernelspec": {
   "display_name": "Python 3 (ipykernel)",
   "language": "python",
   "name": "python3"
  },
  "language_info": {
   "codemirror_mode": {
    "name": "ipython",
    "version": 3
   },
   "file_extension": ".py",
   "mimetype": "text/x-python",
   "name": "python",
   "nbconvert_exporter": "python",
   "pygments_lexer": "ipython3",
   "version": "3.9.7"
  }
 },
 "nbformat": 4,
 "nbformat_minor": 5
}

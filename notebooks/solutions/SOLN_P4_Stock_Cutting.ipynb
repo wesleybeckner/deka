{
 "cells": [
  {
   "cell_type": "markdown",
   "id": "a694f216-34e7-495f-b310-097e2db775a4",
   "metadata": {},
   "source": [
    "<a href=\"https://colab.research.google.com/github/wesleybeckner/deka/blob/main/notebooks/solutions/SOLN_P4_Stock_Cutting.ipynb\" target=\"_parent\"><img src=\"https://colab.research.google.com/assets/colab-badge.svg\" alt=\"Open In Colab\"/></a>"
   ]
  },
  {
   "cell_type": "markdown",
   "id": "3f86d94d-6e79-4392-888a-dac7a773f2ac",
   "metadata": {},
   "source": [
    "# Stock Cutting Part 4:<br> Unit Tests\n",
    "\n",
    "<br>\n",
    "\n",
    "---\n",
    "\n",
    "<br>\n",
    "\n",
    "In this project notebook we'll be writing unit tests for our cutting stock algorithm\n",
    "\n",
    "<br>\n",
    "\n",
    "---"
   ]
  },
  {
   "cell_type": "markdown",
   "id": "3c429358-c787-40ab-865d-a3efed444931",
   "metadata": {},
   "source": [
    "## 1.0: Import Functions and Libraries"
   ]
  },
  {
   "cell_type": "code",
   "execution_count": 1,
   "id": "51a619cc-8067-4c8a-b664-e94b1133d5b3",
   "metadata": {},
   "outputs": [],
   "source": [
    "from collections import Counter\n",
    "from itertools import combinations\n",
    "from scipy.optimize import linprog\n",
    "from math import ceil\n",
    "import numpy as np\n",
    "\n",
    "def solveX(patterns, widths, q):\n",
    "    \"\"\"\n",
    "    solves the linprog (minimum doffs needed given set of patterns)\n",
    "    as well as the dual problem\n",
    "    \"\"\"\n",
    "    lhs_ineq = []\n",
    "    for pattern in patterns:\n",
    "\n",
    "        # inset will be our full build of a given \"pattern\"\n",
    "        inset = []\n",
    "        for width in widths:\n",
    "\n",
    "            # try to access the slitwidth counts, otherwise\n",
    "            # it means none of that slitwidth was included \n",
    "            try:\n",
    "                inset.append(-pattern[0][width])\n",
    "            except:\n",
    "                inset.append(0)\n",
    "\n",
    "        # add inset to the set of equations (patterns)        \n",
    "        lhs_ineq.append(inset)\n",
    "    lhs_ineq = np.array(lhs_ineq).T.tolist()\n",
    "\n",
    "    # rhs is the min orders we need for each slitwidth\n",
    "    rhs_ineq = [-i for i in q]\n",
    "\n",
    "    # min x1 + x2 + .... Xn\n",
    "    obj = np.ones(len(lhs_ineq[0]))\n",
    "\n",
    "    # linprog will determine the minimum number we need\n",
    "    # of each pattern\n",
    "    result = linprog(c=obj,\n",
    "            A_ub=lhs_ineq,\n",
    "            b_ub=rhs_ineq,\n",
    "            method=\"revised simplex\")\n",
    "\n",
    "    X = [ceil(i) for i in result['x']]\n",
    "    \n",
    "    \n",
    "    dual_problem = linprog(c=rhs_ineq,\n",
    "        A_ub=-np.array(lhs_ineq).T,\n",
    "        b_ub=obj,\n",
    "        method=\"revised simplex\")\n",
    "    val = [i for i in dual_problem['x']]\n",
    "    \n",
    "    return X, val\n",
    "\n",
    "def pack_knap(wt, val, W):\n",
    "    new_wt = []\n",
    "    new_val = []\n",
    "    for w, v in zip(wt, val):\n",
    "        new_wt += [w]*int(W/w)\n",
    "        new_val += [v]*int(W/w)\n",
    "    wt = new_wt\n",
    "    val = new_val\n",
    "    t = initt(W, val)\n",
    "    best = knapsack(wt, val, W, len(val), t)\n",
    "    loss = W - best\n",
    "    sack = reconstruct(len(val), W, t, wt)\n",
    "    pattern = Counter([wt[i] for i in list(sack)])\n",
    "    \n",
    "    value = Counter([val[i] for i in list(sack)])\n",
    "    \n",
    "\n",
    "    total = 0\n",
    "    for worth, multiple in value.items():\n",
    "        total += worth * multiple\n",
    "    return pattern, total\n",
    "\n",
    "def seed_patterns(_widths, W, max_unique_layouts=3):\n",
    "    patterns = []\n",
    "    for current_max in range(1, max_unique_layouts+1):\n",
    "        pre_sacks = list(combinations(_widths, current_max))\n",
    "        for widths in pre_sacks:\n",
    "            new = []\n",
    "            for w in widths:\n",
    "                new += [w]*int(W/w)\n",
    "            widths = new\n",
    "\n",
    "            t = initt(W, widths)\n",
    "            best = knapsack(widths, widths, W, len(widths), t)\n",
    "            loss = W - best\n",
    "            sack = reconstruct(len(widths), W, t, widths)\n",
    "            pattern = Counter([widths[i] for i in list(sack)])\n",
    "            patterns.append([pattern, loss])\n",
    "    return patterns\n",
    "\n",
    "def initt(W, val):\n",
    "    return [[None for i in range(W + 1)] for j in range(len(val) + 1)]\n",
    "\n",
    "def knapsack(wt, val, w, n, t):\n",
    "    # n, w will be the row, column of our table\n",
    "    # solve the basecase. \n",
    "    if w == 0 or n == 0:\n",
    "        return 0\n",
    "\n",
    "    elif t[n][w] != None:\n",
    "        return t[n][w]\n",
    "\n",
    "    # now include the conditionals\n",
    "    if wt[n-1] <= w:\n",
    "        t[n][w] = max(\n",
    "            knapsack(wt, val, w, n-1, t),\n",
    "            knapsack(wt, val, w-wt[n-1], n-1, t) + val[n-1])\n",
    "        return t[n][w]\n",
    "\n",
    "    elif wt[n-1] > w:\n",
    "        t[n][w] = knapsack(wt, val, w, n-1, t)\n",
    "        return t[n][w]\n",
    "    \n",
    "def reconstruct(N, W, t, wt):\n",
    "    recon = set()\n",
    "    for j in range(N)[::-1]:\n",
    "        if (t[j+1][W] not in t[j]) and (t[j+1][W] != 0):\n",
    "            recon.add(j)\n",
    "            W = W - wt[j] # move columns in table lookup\n",
    "        if W < 0:\n",
    "            break\n",
    "        else:\n",
    "            continue\n",
    "    return recon\n",
    "\n",
    "def test_small_bag():\n",
    "    # the problem parameters\n",
    "    val = [60, 50, 70, 30]\n",
    "    wt = [5, 3, 4, 2]\n",
    "    W = 5\n",
    "\n",
    "    # the known solution\n",
    "    max_val = 80\n",
    "    max_items = [50, 30]\n",
    "\n",
    "    t = initt(W, val)\n",
    "    best = knapsack(wt, val, W, len(val), t)\n",
    "    sack = reconstruct(len(val), W, t, wt)\n",
    "    pattern = Counter([val[i] for i in list(sack)])\n",
    "\n",
    "    assert best == max_val, \"Optimal value not found\"\n",
    "    print(\"Optimal value found\")\n",
    "\n",
    "    assert list(pattern.keys()) == max_items, \"Optimal items not found\"\n",
    "    print(\"Optimal items found\")\n",
    "    \n",
    "def test_val_weight_equality():\n",
    "    # the problem parameters\n",
    "    val = wt = [2, 2, 2, 2, 5, 5, 5, 5]\n",
    "    W = 14\n",
    "\n",
    "    # the known solution\n",
    "    max_val = 14\n",
    "    max_items = Counter([5, 5, 2, 2])\n",
    "\n",
    "    t = initt(W, val)\n",
    "    best = knapsack(wt, val, W, len(val), t)\n",
    "    sack = reconstruct(len(val), W, t, wt)\n",
    "    pattern = Counter([val[i] for i in list(sack)])\n",
    "\n",
    "    assert best == max_val, \"Optimal value not found\"\n",
    "    print(\"Optimal value found\")\n",
    "\n",
    "    assert pattern == max_items, \"Optimal items not found\"\n",
    "    print(\"Optimal items found\")\n",
    "\n",
    "def test_simple_stock_cutting():\n",
    "    q = [80, 50, 100]\n",
    "    widths = w = [4, 6, 7]\n",
    "    W = 15\n",
    "    ans = 96\n",
    "\n",
    "    patterns = seed_patterns(widths, W, max_unique_layouts=1)\n",
    "\n",
    "    while True:\n",
    "        X, val = solveX(patterns, widths, q)\n",
    "        pattern, total = pack_knap(w, val, W)\n",
    "        if total > 1:\n",
    "            patterns.append([pattern, 0])\n",
    "            continue\n",
    "        break\n",
    "         \n",
    "    assert sum(X) == ans, \"Optimal doffs not found\"\n",
    "    print(\"test passed\")\n",
    "    print(f\"total doffs: {sum(X)}\", end=\"\\n\\n\")\n",
    "    for quant, pattern in zip(X, patterns):\n",
    "        if quant > 0:\n",
    "            print(f\"{quant}, {pattern[0]}\")"
   ]
  },
  {
   "cell_type": "code",
   "execution_count": 2,
   "id": "959fca52-4bd8-468f-b9fd-cf8d0452b9dc",
   "metadata": {},
   "outputs": [
    {
     "name": "stdout",
     "output_type": "stream",
     "text": [
      "test passed\n",
      "total doffs: 96\n",
      "\n",
      "5, Counter({6: 2})\n",
      "50, Counter({7: 2})\n",
      "41, Counter({4: 2, 6: 1})\n"
     ]
    }
   ],
   "source": [
    "test_simple_stock_cutting()"
   ]
  },
  {
   "cell_type": "code",
   "execution_count": 27,
   "id": "218f6ff0-5f3a-4e2e-9086-bb1f6dcac289",
   "metadata": {},
   "outputs": [
    {
     "data": {
      "text/plain": [
       "4072"
      ]
     },
     "execution_count": 27,
     "metadata": {},
     "output_type": "execute_result"
    }
   ],
   "source": [
    "(12*234 + 8*158)"
   ]
  },
  {
   "cell_type": "code",
   "execution_count": 2,
   "id": "3500c720-674a-4884-ae94-a8c04c06e8be",
   "metadata": {},
   "outputs": [
    {
     "name": "stdout",
     "output_type": "stream",
     "text": [
      "234: 251\n",
      "170: 880\n",
      "158: 182\n"
     ]
    }
   ],
   "source": [
    "print(f\"234: {17*7+3*44}\")\n",
    "print(f\"170: {20*44}\")\n",
    "print(f\"158: {26*7}\")"
   ]
  },
  {
   "cell_type": "code",
   "execution_count": 1,
   "id": "493f377a-79db-4e6b-979b-1b957fe9e80e",
   "metadata": {},
   "outputs": [
    {
     "name": "stdout",
     "output_type": "stream",
     "text": [
      "234: 1.028688524590164\n",
      "170: 1.0011376564277588\n",
      "158: 1.0055248618784531\n"
     ]
    }
   ],
   "source": [
    "#  [879, 244, 181]\n",
    "print(f\"234: {(17*7+3*44)/244}\")\n",
    "print(f\"170: {(20*44)/879}\")\n",
    "print(f\"158: {(26*7)/181}\")"
   ]
  },
  {
   "cell_type": "code",
   "execution_count": 8,
   "id": "e7bcd6c3-ad6c-4227-975c-93243192fb22",
   "metadata": {},
   "outputs": [
    {
     "data": {
      "text/plain": [
       "100.69018404907975"
      ]
     },
     "execution_count": 8,
     "metadata": {},
     "output_type": "execute_result"
    }
   ],
   "source": [
    "(((17*7+3*44)+ (20*44) + (26*7))\n",
    " /(244 + 879 + 181))*100"
   ]
  },
  {
   "cell_type": "code",
   "execution_count": 6,
   "id": "0c5ecc51-9aee-4557-9885-6ae1bb2ddabf",
   "metadata": {},
   "outputs": [
    {
     "name": "stdout",
     "output_type": "stream",
     "text": [
      "148\n",
      "12\n",
      "0\n"
     ]
    }
   ],
   "source": [
    "print(f\"{4160-236*17}\")\n",
    "print(f\"{4160-(20*172+3*236)}\")\n",
    "print(f\"{4160-26*160}\")"
   ]
  },
  {
   "cell_type": "code",
   "execution_count": 10,
   "id": "172842b2-f2fe-40cc-98e7-fa4210c8460e",
   "metadata": {},
   "outputs": [
    {
     "name": "stdout",
     "output_type": "stream",
     "text": [
      "test passed\n",
      "total doffs: 59\n",
      "\n",
      "39, Counter({172: 20, 160: 3, 236: 1})\n",
      "16, Counter({236: 12, 172: 4, 160: 4})\n",
      "4, Counter({172: 15, 236: 6, 160: 1})\n"
     ]
    }
   ],
   "source": [
    "# q = [448, 931, 2179, 864]\n",
    "# widths = [218, 170, 234, 208]\n",
    "# W = 1500\n",
    "\n",
    "widths = [i+j for i, j in zip ([2, 2, 2], [170, 234, 158])]\n",
    "q = [879, 244, 181]\n",
    "W = 4160\n",
    "\n",
    "patterns = seed_patterns(widths, W, max_unique_layouts=1)\n",
    "\n",
    "while True:\n",
    "    X, val = solveX(patterns, widths, q)\n",
    "    pattern, total = pack_knap(widths, val, W)\n",
    "    if total > 1:\n",
    "        patterns.append([pattern, 0])\n",
    "        continue\n",
    "    break\n",
    "\n",
    "print(\"test passed\")\n",
    "print(f\"total doffs: {sum(X)}\", end=\"\\n\\n\")\n",
    "for quant, pattern in zip(X, patterns):\n",
    "    if quant > 0:\n",
    "        print(f\"{quant}, {pattern[0]}\")"
   ]
  },
  {
   "cell_type": "code",
   "execution_count": 31,
   "id": "5f326189-d8e8-4b66-963c-d46d4da7823c",
   "metadata": {},
   "outputs": [
    {
     "data": {
      "text/plain": [
       "4124"
      ]
     },
     "execution_count": 31,
     "metadata": {},
     "output_type": "execute_result"
    }
   ],
   "source": [
    "(16*170 + 6*234)"
   ]
  },
  {
   "cell_type": "code",
   "execution_count": 32,
   "id": "43df3d1c-9aa0-49f3-9785-a1a6f384eb88",
   "metadata": {},
   "outputs": [
    {
     "data": {
      "text/plain": [
       "4118"
      ]
     },
     "execution_count": 32,
     "metadata": {},
     "output_type": "execute_result"
    }
   ],
   "source": [
    "(14*170 + 11*158)"
   ]
  },
  {
   "cell_type": "code",
   "execution_count": null,
   "id": "2e9a54ef-08e6-4e0f-9c37-52c523c1429d",
   "metadata": {},
   "outputs": [],
   "source": [
    "# let's clean up these answers\n",
    "# target is an input - needs ot be made an outpu (i.e. shows % above or below the order quantity)\n",
    "# remove answers that are outside of +/- 10%\n",
    "\n",
    "# show devops process on docker, cli, azure app service"
   ]
  }
 ],
 "metadata": {
  "kernelspec": {
   "display_name": "Python 3 (ipykernel)",
   "language": "python",
   "name": "python3"
  },
  "language_info": {
   "codemirror_mode": {
    "name": "ipython",
    "version": 3
   },
   "file_extension": ".py",
   "mimetype": "text/x-python",
   "name": "python",
   "nbconvert_exporter": "python",
   "pygments_lexer": "ipython3",
   "version": "3.9.7"
  }
 },
 "nbformat": 4,
 "nbformat_minor": 5
}

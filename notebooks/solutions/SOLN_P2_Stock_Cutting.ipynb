{
 "cells": [
  {
   "cell_type": "markdown",
   "id": "58e30857-3872-4ed0-b147-c935be345b7f",
   "metadata": {},
   "source": [
    "<a href=\"https://colab.research.google.com/github/wesleybeckner/deka/blob/main/notebooks/solutions/SOLN_P1_Stock_Cutting.ipynb\" target=\"_parent\"><img src=\"https://colab.research.google.com/assets/colab-badge.svg\" alt=\"Open In Colab\"/></a>"
   ]
  },
  {
   "cell_type": "markdown",
   "id": "927f9f37-fb16-4b33-90c6-b16da7482d21",
   "metadata": {},
   "source": [
    "# Stock Cutting Part 2:<br> Finding Good (But not Best) Patterns\n",
    "\n",
    "<br>\n",
    "\n",
    "---\n",
    "\n",
    "<br>\n",
    "\n",
    "In this project notebook we'll be leveraging our solution to the knapsack problem to create viable patterns for stock cutting.\n",
    "\n",
    "<br>\n",
    "\n",
    "---"
   ]
  },
  {
   "cell_type": "markdown",
   "id": "0027752a-130c-4252-a78b-97ab23193533",
   "metadata": {},
   "source": [
    "## 1.0: Import Functions and Libraries"
   ]
  },
  {
   "cell_type": "code",
   "execution_count": 1,
   "id": "a2b5402a-b0c7-4e4e-89f3-42a740881fca",
   "metadata": {},
   "outputs": [],
   "source": [
    "import numpy as np\n",
    "from collections import Counter\n",
    "\n",
    "def initt(W, val):\n",
    "    return [[None for i in range(W + 1)] for j in range(len(val) + 1)]\n",
    "\n",
    "def knapsack(wt, val, w, n, t):\n",
    "    # n, w will be the row, column of our table\n",
    "    # solve the basecase. \n",
    "    if w == 0 or n == 0:\n",
    "        return 0\n",
    "\n",
    "    elif t[n][w] != None:\n",
    "        return t[n][w]\n",
    "\n",
    "    # now include the conditionals\n",
    "    if wt[n-1] <= w:\n",
    "        t[n][w] = max(\n",
    "            knapsack(wt, val, w, n-1, t),\n",
    "            knapsack(wt, val, w-wt[n-1], n-1, t) + val[n-1])\n",
    "        return t[n][w]\n",
    "\n",
    "    elif wt[n-1] > w:\n",
    "        t[n][w] = knapsack(wt, val, w, n-1, t)\n",
    "        return t[n][w]\n",
    "    \n",
    "def reconstruct(N, W, t, wt):\n",
    "    recon = set()\n",
    "    for j in range(N)[::-1]:\n",
    "        if t[j+1][W] not in t[j]:\n",
    "            recon.add(j)\n",
    "            W = W - wt[j] # move columns in table lookup\n",
    "        if W < 0:\n",
    "            break\n",
    "        else:\n",
    "            continue\n",
    "    return recon\n",
    "\n",
    "def test_small_bag():\n",
    "    # the problem parameters\n",
    "    val = [60, 50, 70, 30]\n",
    "    wt = [5, 3, 4, 2]\n",
    "    W = 5\n",
    "\n",
    "    # the known solution\n",
    "    max_val = 80\n",
    "    max_items = [50, 30]\n",
    "\n",
    "    t = initt(W, val)\n",
    "    best = knapsack(wt, val, W, len(val), t)\n",
    "    sack = reconstruct(len(val), W, t, wt)\n",
    "    pattern = Counter(np.array(val)[list(sack)])\n",
    "\n",
    "    assert best == max_val, \"Optimal value not found\"\n",
    "    print(\"Optimal value found\")\n",
    "\n",
    "    assert list(pattern.keys()) == max_items, \"Optimal items not found\"\n",
    "    print(\"Optimal items found\")\n",
    "    \n",
    "def test_val_weight_equality():\n",
    "    # the problem parameters\n",
    "    val = wt = [2, 2, 2, 2, 5, 5, 5, 5]\n",
    "    W = 14\n",
    "\n",
    "    # the known solution\n",
    "    max_val = 14\n",
    "    max_items = Counter([5, 5, 2, 2])\n",
    "\n",
    "    t = initt(W, val)\n",
    "    best = knapsack(wt, val, W, len(val), t)\n",
    "    sack = reconstruct(len(val), W, t, wt)\n",
    "    pattern = Counter(np.array(val)[list(sack)])\n",
    "\n",
    "    assert best == max_val, \"Optimal value not found\"\n",
    "    print(\"Optimal value found\")\n",
    "\n",
    "    assert pattern == max_items, \"Optimal items not found\"\n",
    "    print(\"Optimal items found\")"
   ]
  },
  {
   "cell_type": "code",
   "execution_count": 2,
   "id": "b00c8964-150e-4838-b245-9b1b1e1ab4cc",
   "metadata": {},
   "outputs": [
    {
     "name": "stdout",
     "output_type": "stream",
     "text": [
      "Optimal value found\n",
      "Optimal items found\n"
     ]
    }
   ],
   "source": [
    "test_small_bag()"
   ]
  },
  {
   "cell_type": "code",
   "execution_count": 3,
   "id": "92ba3384-e304-4bfe-969c-39e925c426a4",
   "metadata": {},
   "outputs": [
    {
     "name": "stdout",
     "output_type": "stream",
     "text": [
      "Optimal value found\n",
      "Optimal items found\n"
     ]
    }
   ],
   "source": [
    "test_val_weight_equality()"
   ]
  },
  {
   "cell_type": "markdown",
   "id": "86439f23-9ea1-40d4-b6a3-87bb1e3cf126",
   "metadata": {},
   "source": [
    "## 1.1: Why good but not best?\n",
    "\n",
    "The shortcoming of the knapsack problem is that while it is able to find the best possible configuration to maximize the value of a knapsack, it does not consider constraints around items we _must_ include. That is, when we create a schedule for our stock cutter, it is necessary that we deliver _all_ orders within a reasonable time. \n",
    "\n",
    "To over come this hurdle, we combine results from the knapsack problem (and any other pattern generative algorithm we would like to include) with a linear opimization task. We will cover the linear optimization task in a later notebook. Just know for now that we are still working on creating candidate patterns."
   ]
  }
 ],
 "metadata": {
  "kernelspec": {
   "display_name": "Python 3 (ipykernel)",
   "language": "python",
   "name": "python3"
  },
  "language_info": {
   "codemirror_mode": {
    "name": "ipython",
    "version": 3
   },
   "file_extension": ".py",
   "mimetype": "text/x-python",
   "name": "python",
   "nbconvert_exporter": "python",
   "pygments_lexer": "ipython3",
   "version": "3.9.7"
  }
 },
 "nbformat": 4,
 "nbformat_minor": 5
}

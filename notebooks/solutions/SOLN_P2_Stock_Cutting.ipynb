{
 "cells": [
  {
   "cell_type": "markdown",
   "id": "58e30857-3872-4ed0-b147-c935be345b7f",
   "metadata": {},
   "source": [
    "<a href=\"https://colab.research.google.com/github/wesleybeckner/deka/blob/main/notebooks/solutions/SOLN_P2_Stock_Cutting.ipynb\" target=\"_parent\"><img src=\"https://colab.research.google.com/assets/colab-badge.svg\" alt=\"Open In Colab\"/></a>"
   ]
  },
  {
   "cell_type": "markdown",
   "id": "927f9f37-fb16-4b33-90c6-b16da7482d21",
   "metadata": {},
   "source": [
    "# Stock Cutting Part 2:<br> Finding Good (But not Best) Patterns\n",
    "\n",
    "<br>\n",
    "\n",
    "---\n",
    "\n",
    "<br>\n",
    "\n",
    "In this project notebook we'll be leveraging our solution to the knapsack problem to create viable patterns for stock cutting.\n",
    "\n",
    "<br>\n",
    "\n",
    "---"
   ]
  },
  {
   "cell_type": "markdown",
   "id": "0027752a-130c-4252-a78b-97ab23193533",
   "metadata": {},
   "source": [
    "## 1.0: Import Functions and Libraries"
   ]
  },
  {
   "cell_type": "code",
   "execution_count": 15,
   "id": "a2b5402a-b0c7-4e4e-89f3-42a740881fca",
   "metadata": {},
   "outputs": [],
   "source": [
    "from collections import Counter\n",
    "\n",
    "def initt(W, val):\n",
    "    return [[None for i in range(W + 1)] for j in range(len(val) + 1)]\n",
    "\n",
    "def knapsack(wt, val, w, n, t):\n",
    "    # n, w will be the row, column of our table\n",
    "    # solve the basecase. \n",
    "    if w == 0 or n == 0:\n",
    "        return 0\n",
    "\n",
    "    elif t[n][w] != None:\n",
    "        return t[n][w]\n",
    "\n",
    "    # now include the conditionals\n",
    "    if wt[n-1] <= w:\n",
    "        t[n][w] = max(\n",
    "            knapsack(wt, val, w, n-1, t),\n",
    "            knapsack(wt, val, w-wt[n-1], n-1, t) + val[n-1])\n",
    "        return t[n][w]\n",
    "\n",
    "    elif wt[n-1] > w:\n",
    "        t[n][w] = knapsack(wt, val, w, n-1, t)\n",
    "        return t[n][w]\n",
    "    \n",
    "def reconstruct(N, W, t, wt):\n",
    "    recon = set()\n",
    "    for j in range(N)[::-1]:\n",
    "        if t[j+1][W] not in t[j]:\n",
    "            recon.add(j)\n",
    "            W = W - wt[j] # move columns in table lookup\n",
    "        if W < 0:\n",
    "            break\n",
    "        else:\n",
    "            continue\n",
    "    return recon\n",
    "\n",
    "def test_small_bag():\n",
    "    # the problem parameters\n",
    "    val = [60, 50, 70, 30]\n",
    "    wt = [5, 3, 4, 2]\n",
    "    W = 5\n",
    "\n",
    "    # the known solution\n",
    "    max_val = 80\n",
    "    max_items = [50, 30]\n",
    "\n",
    "    t = initt(W, val)\n",
    "    best = knapsack(wt, val, W, len(val), t)\n",
    "    sack = reconstruct(len(val), W, t, wt)\n",
    "    pattern = Counter([val[i] for i in list(sack)])\n",
    "\n",
    "    assert best == max_val, \"Optimal value not found\"\n",
    "    print(\"Optimal value found\")\n",
    "\n",
    "    assert list(pattern.keys()) == max_items, \"Optimal items not found\"\n",
    "    print(\"Optimal items found\")\n",
    "    \n",
    "def test_val_weight_equality():\n",
    "    # the problem parameters\n",
    "    val = wt = [2, 2, 2, 2, 5, 5, 5, 5]\n",
    "    W = 14\n",
    "\n",
    "    # the known solution\n",
    "    max_val = 14\n",
    "    max_items = Counter([5, 5, 2, 2])\n",
    "\n",
    "    t = initt(W, val)\n",
    "    best = knapsack(wt, val, W, len(val), t)\n",
    "    sack = reconstruct(len(val), W, t, wt)\n",
    "    pattern = Counter([val[i] for i in list(sack)])\n",
    "\n",
    "    assert best == max_val, \"Optimal value not found\"\n",
    "    print(\"Optimal value found\")\n",
    "\n",
    "    assert pattern == max_items, \"Optimal items not found\"\n",
    "    print(\"Optimal items found\")"
   ]
  },
  {
   "cell_type": "code",
   "execution_count": 16,
   "id": "b00c8964-150e-4838-b245-9b1b1e1ab4cc",
   "metadata": {},
   "outputs": [
    {
     "name": "stdout",
     "output_type": "stream",
     "text": [
      "Optimal value found\n",
      "Optimal items found\n"
     ]
    }
   ],
   "source": [
    "test_small_bag()"
   ]
  },
  {
   "cell_type": "code",
   "execution_count": 17,
   "id": "92ba3384-e304-4bfe-969c-39e925c426a4",
   "metadata": {},
   "outputs": [
    {
     "name": "stdout",
     "output_type": "stream",
     "text": [
      "Optimal value found\n",
      "Optimal items found\n"
     ]
    }
   ],
   "source": [
    "test_val_weight_equality()"
   ]
  },
  {
   "cell_type": "markdown",
   "id": "07e87e58-515b-4792-b02e-229a89c8bcc4",
   "metadata": {},
   "source": [
    "## 1.1 Modifications from knapsack to cutting stock\n",
    "\n",
    "You may have guessed this, but for all of our problems the `wt` list and `val` list will always be the same; they will be the list of widths scheduled to cut from stock. \n",
    "\n",
    "When we get our orders, we will need to adjust such that we are solving the _appropriate_ problem with the knapsack function. To give an example, we might have 100 orders to fulfill with slitwidth 170. However we can max only fit 20 on a roll. In this situation, we don't want to include all 100 repeat widths in the knapsack problem, because we know we can't possibly fit that many. Instead, we want to only provide the maximum number of 170's we could possibly fit on a roll. This will make the algorithm more efficient."
   ]
  },
  {
   "cell_type": "markdown",
   "id": "cf907366-dcf7-40df-8691-1dc216b6f138",
   "metadata": {},
   "source": [
    "### 1.1.1 Can we simplify the knapsack function?"
   ]
  },
  {
   "cell_type": "code",
   "execution_count": 18,
   "id": "8d06d9f2-3b94-45de-afd5-5255b3406349",
   "metadata": {},
   "outputs": [
    {
     "data": {
      "text/plain": [
       "Counter({170: 1, 280: 1, 320: 1})"
      ]
     },
     "execution_count": 18,
     "metadata": {},
     "output_type": "execute_result"
    }
   ],
   "source": [
    "wt = val = [170, 280, 320]\n",
    "W = 4000\n",
    "t = initt(W, val)\n",
    "best = knapsack(wt, val, W, len(val), t)\n",
    "sack = reconstruct(len(val), W, t, wt)\n",
    "pattern = Counter([val[i] for i in list(sack)])\n",
    "pattern"
   ]
  },
  {
   "cell_type": "markdown",
   "id": "756677d8-3150-4991-af6c-9226be941313",
   "metadata": {},
   "source": [
    "### 🎒 Exercise 1: replace wt and val in `knapsack` and nonetype in `initt`\n",
    "\n",
    "Notice how in the above cell we set `wt` and `val` equal to our product widths. In the cell below, rewrite the `knapsack` function so that `widths` takes the place of both `wt` and `val`"
   ]
  },
  {
   "cell_type": "code",
   "execution_count": 81,
   "id": "3c126431-1e0d-411b-8f1b-7a9e812ab00e",
   "metadata": {},
   "outputs": [],
   "source": [
    "def initt(W, val):\n",
    "    return [[-1 for i in range(W + 1)] for j in range(len(val) + 1)]\n",
    "\n",
    "def knapsack(widths, w, n, t):\n",
    "    # n, w will be the row, column of our table\n",
    "    # solve the basecase. \n",
    "    if w == 0 or n == 0:\n",
    "        return 0\n",
    "\n",
    "    elif t[n][w] != -1:\n",
    "        return t[n][w]\n",
    "\n",
    "    # now include the conditionals\n",
    "    if widths[n-1] <= w:\n",
    "        t[n][w] = max(\n",
    "            knapsack(widths, w, n-1, t),\n",
    "            knapsack(widths, w-widths[n-1], n-1, t) + widths[n-1])\n",
    "        return t[n][w]\n",
    "\n",
    "    elif widths[n-1] > w:\n",
    "        t[n][w] = knapsack(widths, w, n-1, t)\n",
    "        return t[n][w]"
   ]
  },
  {
   "cell_type": "markdown",
   "id": "9d651a19-9f00-451b-8e21-4e2b19ca3c31",
   "metadata": {},
   "source": [
    "Do the same thing for the `reconstruct` function. And while we're at it, let's change `N` to `n` and `W` to `w` so that our variables are consistent across both functions"
   ]
  },
  {
   "cell_type": "code",
   "execution_count": 82,
   "id": "5e50e5ff-2fa3-4515-8ef2-11cb172e6bbe",
   "metadata": {},
   "outputs": [],
   "source": [
    "def reconstruct(n, w, t, widths):\n",
    "    recon = set()\n",
    "    for j in range(n)[::-1]:\n",
    "        if t[j+1][w] not in t[j]:\n",
    "            recon.add(j)\n",
    "            w -= widths[j] # move columns in table lookup\n",
    "        if w < 0:\n",
    "            break\n",
    "        else:\n",
    "            continue\n",
    "    return recon"
   ]
  },
  {
   "cell_type": "markdown",
   "id": "c2c222a3-4b49-48a3-bb81-585fbf23a4b3",
   "metadata": {},
   "source": [
    "and lets test our new functions"
   ]
  },
  {
   "cell_type": "code",
   "execution_count": 83,
   "id": "e0311735-2e02-42ce-a2c0-b88f4965594a",
   "metadata": {},
   "outputs": [
    {
     "data": {
      "text/plain": [
       "Counter({170: 1, 280: 1, 320: 1})"
      ]
     },
     "execution_count": 83,
     "metadata": {},
     "output_type": "execute_result"
    }
   ],
   "source": [
    "widths = [170, 280, 320]\n",
    "W = 4000\n",
    "t = initt(W, widths)\n",
    "best = knapsack(widths, W, len(widths), t)\n",
    "sack = reconstruct(len(widths), W, t, widths)\n",
    "pattern = Counter([widths[i] for i in list(sack)])\n",
    "pattern"
   ]
  },
  {
   "cell_type": "markdown",
   "id": "41567034-96cc-4733-acc1-10fc0126e808",
   "metadata": {},
   "source": [
    "### 1.1.2 How many slit widths?\n",
    "\n",
    "Does our answer to the knapsack problem above make sense? It does based on what we fed the function. However, in reality what we're looking for is the best pattern given a list of unique slit widths even if that requires repeating units of slit widths. So how do we modify the way we call the function?"
   ]
  },
  {
   "cell_type": "code",
   "execution_count": 84,
   "id": "ed3722c2-e4d0-4a53-bb5f-995abbe4d77f",
   "metadata": {},
   "outputs": [
    {
     "name": "stdout",
     "output_type": "stream",
     "text": [
      "[170, 170, 170, 170, 170, 170, 170, 170, 170, 170, 170, 170, 170, 170, 170, 170, 170, 170, 170, 170, 170, 170, 170]\n",
      "[280, 280, 280, 280, 280, 280, 280, 280, 280, 280, 280, 280, 280, 280]\n",
      "[320, 320, 320, 320, 320, 320, 320, 320, 320, 320, 320, 320]\n"
     ]
    }
   ],
   "source": [
    "widths = [170, 280, 320]\n",
    "W = 4000\n",
    "for w in widths:\n",
    "    print([w]*int(W/w))"
   ]
  },
  {
   "cell_type": "markdown",
   "id": "21f0d782-4e2e-4681-bc1d-686a4d775265",
   "metadata": {},
   "source": [
    "### 🎒 Exercise 2: call knapsack with a modified list of widths\n",
    "\n",
    "In the above, we created new lists that properly signify the maximum number of units we could fit into the stock width. It is this list of items that we wish to feed into our knapsack problem. Rewrite our call to the knapsack problem below"
   ]
  },
  {
   "cell_type": "code",
   "execution_count": 85,
   "id": "6eeafa24-067a-4a22-ab38-5b4910bb7d1d",
   "metadata": {},
   "outputs": [
    {
     "name": "stdout",
     "output_type": "stream",
     "text": [
      "4000\n"
     ]
    },
    {
     "data": {
      "text/plain": [
       "Counter({170: 12, 280: 7})"
      ]
     },
     "execution_count": 85,
     "metadata": {},
     "output_type": "execute_result"
    }
   ],
   "source": [
    "widths = [170, 280, 320]\n",
    "W = 4000\n",
    "new = []\n",
    "for w in widths:\n",
    "    new += [w]*int(W/w)\n",
    "widths = new\n",
    "\n",
    "t = initt(W, widths)\n",
    "best = knapsack(widths, W, len(widths), t)\n",
    "print(best)\n",
    "sack = reconstruct(len(widths), W, t, widths)\n",
    "pattern = Counter([widths[i] for i in list(sack)])\n",
    "pattern"
   ]
  },
  {
   "cell_type": "markdown",
   "id": "30181edd-d02b-41ee-bc65-fe040f19cd14",
   "metadata": {},
   "source": [
    "### 🎒 Exercise 3: report the loss\n",
    "\n",
    "As a last adjustment, we want to think of the loss from a pattern, not the total number of millimeters used. Calculate the loss"
   ]
  },
  {
   "cell_type": "code",
   "execution_count": 86,
   "id": "e78b15b5-a8b9-4ee7-aeff-542094ea82ad",
   "metadata": {},
   "outputs": [
    {
     "name": "stdout",
     "output_type": "stream",
     "text": [
      "Loss: 0\n"
     ]
    },
    {
     "data": {
      "text/plain": [
       "Counter({170: 12, 280: 7})"
      ]
     },
     "execution_count": 86,
     "metadata": {},
     "output_type": "execute_result"
    }
   ],
   "source": [
    "widths = [170, 280, 320]\n",
    "W = 4000\n",
    "new = []\n",
    "for w in widths:\n",
    "    new += [w]*int(W/w)\n",
    "widths = new\n",
    "\n",
    "t = initt(W, widths)\n",
    "best = knapsack(widths, W, len(widths), t)\n",
    "loss = W - best\n",
    "print(f\"Loss: {loss}\")\n",
    "sack = reconstruct(len(widths), W, t, widths)\n",
    "pattern = Counter([widths[i] for i in list(sack)])\n",
    "pattern"
   ]
  },
  {
   "cell_type": "markdown",
   "id": "86439f23-9ea1-40d4-b6a3-87bb1e3cf126",
   "metadata": {},
   "source": [
    "## 1.2: Why good but not best?\n",
    "\n",
    "The shortcoming of the knapsack problem is that while it is able to find the best possible configuration to maximize the value of a knapsack, it does not consider constraints around items we _must_ include. That is, when we create a schedule for our stock cutter, it is necessary that we deliver _all_ orders within a reasonable time. \n",
    "\n",
    "To over come this hurdle, we combine results from the knapsack problem (and any other pattern generative algorithm we would like to include) with a linear opimization task. We will cover the linear optimization task in a later notebook. Just know for now that we are still working on creating candidate patterns."
   ]
  },
  {
   "cell_type": "markdown",
   "id": "37cbb453-4d30-4b9e-a435-f483d51b3bf5",
   "metadata": {},
   "source": [
    "### 1.2.1 Find all unique combinations of slit widths"
   ]
  },
  {
   "cell_type": "code",
   "execution_count": 57,
   "id": "c449955c-959d-4d58-8603-bf6c6ec7311d",
   "metadata": {},
   "outputs": [
    {
     "name": "stdout",
     "output_type": "stream",
     "text": [
      "Loss: 0\n",
      "Counter({170: 12, 280: 7})\n"
     ]
    }
   ],
   "source": [
    "widths = [170, 280, 320]\n",
    "W = 4000\n",
    "new = []\n",
    "for w in widths:\n",
    "    new += [w]*int(W/w)\n",
    "widths = new\n",
    "\n",
    "t = initt(W, widths)\n",
    "best = knapsack(widths, W, len(widths), t)\n",
    "loss = W - best\n",
    "print(f\"Loss: {loss}\")\n",
    "sack = reconstruct(len(widths), W, t, widths)\n",
    "pattern = Counter([widths[i] for i in list(sack)])\n",
    "print(pattern)"
   ]
  },
  {
   "cell_type": "markdown",
   "id": "50b1b255-d092-40d0-92a1-8d38b7764780",
   "metadata": {},
   "source": [
    "### 🎒 Exercise 4: permutate the list of unique widths"
   ]
  },
  {
   "cell_type": "code",
   "execution_count": 63,
   "id": "bf0e89ea-f8e1-4b95-b1f7-6a2fd87f50a6",
   "metadata": {},
   "outputs": [],
   "source": [
    "from itertools import combinations"
   ]
  },
  {
   "cell_type": "code",
   "execution_count": 105,
   "id": "2dc7072b-c09d-4ae1-9236-f593cbcca78d",
   "metadata": {},
   "outputs": [],
   "source": [
    "_widths = [170, 280, 320]\n",
    "W = 4000\n",
    "max_unique_layouts = 3\n",
    "\n",
    "def seed_patterns(_widths, W, max_unique_layouts=3):\n",
    "    patterns = []\n",
    "    for current_max in range(1, max_unique_layouts+1):\n",
    "        pre_sacks = list(combinations(_widths, current_max))\n",
    "        for widths in pre_sacks:\n",
    "            new = []\n",
    "            for w in widths:\n",
    "                new += [w]*int(W/w)\n",
    "            widths = new\n",
    "\n",
    "            t = initt(W, widths)\n",
    "            best = knapsack(widths, W, len(widths), t)\n",
    "            loss = W - best\n",
    "            sack = reconstruct(len(widths), W, t, widths)\n",
    "            pattern = Counter([widths[i] for i in list(sack)])\n",
    "            patterns.append([pattern, loss])\n",
    "    return patterns"
   ]
  },
  {
   "cell_type": "markdown",
   "id": "eca97de5-362b-4e79-9796-9fd8cf1c4185",
   "metadata": {},
   "source": [
    "Call your function"
   ]
  },
  {
   "cell_type": "code",
   "execution_count": 106,
   "id": "c6df22ba-16a9-4c03-a881-403a96bb6933",
   "metadata": {},
   "outputs": [
    {
     "data": {
      "text/plain": [
       "[[Counter({170: 23}), 90],\n",
       " [Counter({280: 14}), 80],\n",
       " [Counter({320: 12}), 160],\n",
       " [Counter({170: 12, 280: 7}), 0],\n",
       " [Counter({170: 16, 320: 4}), 0],\n",
       " [Counter({280: 12, 320: 2}), 0],\n",
       " [Counter({170: 12, 280: 7}), 0]]"
      ]
     },
     "execution_count": 106,
     "metadata": {},
     "output_type": "execute_result"
    }
   ],
   "source": [
    "seed_patterns(_widths, W)"
   ]
  },
  {
   "cell_type": "markdown",
   "id": "776c6c35-9e90-458e-bec0-3da0863a7ce0",
   "metadata": {},
   "source": [
    "For giggles, check the speed of your function using `%%timeit`"
   ]
  },
  {
   "cell_type": "code",
   "execution_count": 101,
   "id": "d2225698-528b-49fd-a1a6-cff639bd4e69",
   "metadata": {},
   "outputs": [
    {
     "name": "stdout",
     "output_type": "stream",
     "text": [
      "38 ms ± 1.22 ms per loop (mean ± std. dev. of 7 runs, 10 loops each)\n"
     ]
    }
   ],
   "source": [
    "%%timeit\n",
    "patterns = seed_patterns(_widths, W)"
   ]
  },
  {
   "cell_type": "markdown",
   "id": "2c03cf68-63e2-41df-a864-a14687c5f637",
   "metadata": {},
   "source": [
    "### 1.2.2 More permutations\n",
    "\n",
    "This is grand, but notice there are additional patterns that may be useful for our stock cutting problem.\n",
    "\n",
    "We were able to find:\n",
    "\n",
    "`[Counter({280: 12, 320: 2}), 0],`\n",
    "\n",
    "but notice how:\n",
    "\n",
    "`[Counter({320: 9, 280: 4}), 0]`\n",
    "\n",
    "is also a valid solution to fitting the two slit widths on stock. And in fact, the second solution may be one we need to produce our orders in as few stock rolls as possible. We'll come back to this question later on."
   ]
  }
 ],
 "metadata": {
  "kernelspec": {
   "display_name": "Python 3 (ipykernel)",
   "language": "python",
   "name": "python3"
  },
  "language_info": {
   "codemirror_mode": {
    "name": "ipython",
    "version": 3
   },
   "file_extension": ".py",
   "mimetype": "text/x-python",
   "name": "python",
   "nbconvert_exporter": "python",
   "pygments_lexer": "ipython3",
   "version": "3.9.7"
  }
 },
 "nbformat": 4,
 "nbformat_minor": 5
}

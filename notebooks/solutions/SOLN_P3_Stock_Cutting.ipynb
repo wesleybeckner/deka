{
 "cells": [
  {
   "cell_type": "markdown",
   "id": "58e30857-3872-4ed0-b147-c935be345b7f",
   "metadata": {},
   "source": [
    "<a href=\"https://colab.research.google.com/github/wesleybeckner/deka/blob/main/notebooks/solutions/SOLN_P1_Stock_Cutting.ipynb\" target=\"_parent\"><img src=\"https://colab.research.google.com/assets/colab-badge.svg\" alt=\"Open In Colab\"/></a>"
   ]
  },
  {
   "cell_type": "markdown",
   "id": "927f9f37-fb16-4b33-90c6-b16da7482d21",
   "metadata": {},
   "source": [
    "# Stock Cutting Part 3:<br> The Column Generation Method\n",
    "\n",
    "<br>\n",
    "\n",
    "---\n",
    "\n",
    "<br>\n",
    "\n",
    "In this project notebook we'll be combining our dynamic program from the knapsack problem with a strategy called the _column generation method_\n",
    "\n",
    "<br>\n",
    "\n",
    "---"
   ]
  },
  {
   "cell_type": "markdown",
   "id": "0027752a-130c-4252-a78b-97ab23193533",
   "metadata": {},
   "source": [
    "## 1.0: Import Functions and Libraries"
   ]
  },
  {
   "cell_type": "code",
   "execution_count": 84,
   "id": "a2b5402a-b0c7-4e4e-89f3-42a740881fca",
   "metadata": {},
   "outputs": [],
   "source": [
    "from collections import Counter\n",
    "from itertools import combinations\n",
    "\n",
    "def seed_patterns(_widths, W, max_unique_layouts=3):\n",
    "    patterns = []\n",
    "    for current_max in range(1, max_unique_layouts+1):\n",
    "        pre_sacks = list(combinations(_widths, current_max))\n",
    "        for widths in pre_sacks:\n",
    "            new = []\n",
    "            for w in widths:\n",
    "                new += [w]*int(W/w)\n",
    "            widths = new\n",
    "\n",
    "            t = initt(W, widths)\n",
    "            best = knapsack(widths, widths, W, len(widths), t)\n",
    "            loss = W - best\n",
    "            sack = reconstruct(len(widths), W, t, widths)\n",
    "            pattern = Counter([widths[i] for i in list(sack)])\n",
    "            patterns.append([pattern, loss])\n",
    "    return patterns\n",
    "\n",
    "def initt(W, val):\n",
    "    return [[None for i in range(W + 1)] for j in range(len(val) + 1)]\n",
    "\n",
    "def knapsack(wt, val, w, n, t):\n",
    "    # n, w will be the row, column of our table\n",
    "    # solve the basecase. \n",
    "    if w == 0 or n == 0:\n",
    "        return 0\n",
    "\n",
    "    elif t[n][w] != None:\n",
    "        return t[n][w]\n",
    "\n",
    "    # now include the conditionals\n",
    "    if wt[n-1] <= w:\n",
    "        t[n][w] = max(\n",
    "            knapsack(wt, val, w, n-1, t),\n",
    "            knapsack(wt, val, w-wt[n-1], n-1, t) + val[n-1])\n",
    "        return t[n][w]\n",
    "\n",
    "    elif wt[n-1] > w:\n",
    "        t[n][w] = knapsack(wt, val, w, n-1, t)\n",
    "        return t[n][w]\n",
    "    \n",
    "def reconstruct(N, W, t, wt):\n",
    "    recon = set()\n",
    "    for j in range(N)[::-1]:\n",
    "        if (t[j+1][W] not in t[j]) and (t[j+1][W] != 0):\n",
    "            recon.add(j)\n",
    "            W = W - wt[j] # move columns in table lookup\n",
    "        if W < 0:\n",
    "            break\n",
    "        else:\n",
    "            continue\n",
    "    return recon\n",
    "\n",
    "def test_small_bag():\n",
    "    # the problem parameters\n",
    "    val = [60, 50, 70, 30]\n",
    "    wt = [5, 3, 4, 2]\n",
    "    W = 5\n",
    "\n",
    "    # the known solution\n",
    "    max_val = 80\n",
    "    max_items = [50, 30]\n",
    "\n",
    "    t = initt(W, val)\n",
    "    best = knapsack(wt, val, W, len(val), t)\n",
    "    sack = reconstruct(len(val), W, t, wt)\n",
    "    pattern = Counter([val[i] for i in list(sack)])\n",
    "\n",
    "    assert best == max_val, \"Optimal value not found\"\n",
    "    print(\"Optimal value found\")\n",
    "\n",
    "    assert list(pattern.keys()) == max_items, \"Optimal items not found\"\n",
    "    print(\"Optimal items found\")\n",
    "    \n",
    "def test_val_weight_equality():\n",
    "    # the problem parameters\n",
    "    val = wt = [2, 2, 2, 2, 5, 5, 5, 5]\n",
    "    W = 14\n",
    "\n",
    "    # the known solution\n",
    "    max_val = 14\n",
    "    max_items = Counter([5, 5, 2, 2])\n",
    "\n",
    "    t = initt(W, val)\n",
    "    best = knapsack(wt, val, W, len(val), t)\n",
    "    sack = reconstruct(len(val), W, t, wt)\n",
    "    pattern = Counter([val[i] for i in list(sack)])\n",
    "\n",
    "    assert best == max_val, \"Optimal value not found\"\n",
    "    print(\"Optimal value found\")\n",
    "\n",
    "    assert pattern == max_items, \"Optimal items not found\"\n",
    "    print(\"Optimal items found\")"
   ]
  },
  {
   "cell_type": "code",
   "execution_count": 85,
   "id": "b00c8964-150e-4838-b245-9b1b1e1ab4cc",
   "metadata": {},
   "outputs": [
    {
     "name": "stdout",
     "output_type": "stream",
     "text": [
      "Optimal value found\n",
      "Optimal items found\n"
     ]
    }
   ],
   "source": [
    "test_small_bag()"
   ]
  },
  {
   "cell_type": "code",
   "execution_count": 86,
   "id": "92ba3384-e304-4bfe-969c-39e925c426a4",
   "metadata": {},
   "outputs": [
    {
     "name": "stdout",
     "output_type": "stream",
     "text": [
      "Optimal value found\n",
      "Optimal items found\n"
     ]
    }
   ],
   "source": [
    "test_val_weight_equality()"
   ]
  },
  {
   "cell_type": "code",
   "execution_count": 87,
   "id": "153091f8-9e6b-4b79-bf86-fe1443315ba9",
   "metadata": {},
   "outputs": [
    {
     "data": {
      "text/plain": [
       "[[Counter({170: 23}), 90],\n",
       " [Counter({280: 14}), 80],\n",
       " [Counter({320: 12}), 160],\n",
       " [Counter({170: 12, 280: 7}), 0],\n",
       " [Counter({170: 16, 320: 4}), 0],\n",
       " [Counter({280: 12, 320: 2}), 0],\n",
       " [Counter({170: 12, 280: 7}), 0]]"
      ]
     },
     "execution_count": 87,
     "metadata": {},
     "output_type": "execute_result"
    }
   ],
   "source": [
    "_widths = [170, 280, 320]\n",
    "W = 4000\n",
    "max_unique_layouts = 3\n",
    "\n",
    "seed_patterns(_widths, W)"
   ]
  },
  {
   "cell_type": "markdown",
   "id": "3bcb4713-b672-4ca2-9e6f-3418c461debf",
   "metadata": {},
   "source": [
    "## The Restricted Master Problem (RMP)\n",
    "\n",
    "first we create our naieve solutions (restrict 1 layout per pattern)"
   ]
  },
  {
   "cell_type": "code",
   "execution_count": 134,
   "id": "c3a5ebba-9a0e-4ceb-8410-6117213aab56",
   "metadata": {},
   "outputs": [
    {
     "data": {
      "text/plain": [
       "[[Counter({4: 3}), 3], [Counter({6: 2}), 3], [Counter({7: 2}), 1]]"
      ]
     },
     "execution_count": 134,
     "metadata": {},
     "output_type": "execute_result"
    }
   ],
   "source": [
    "q = [80, 50, 100]\n",
    "widths = w = [4, 6, 7]\n",
    "W = 15\n",
    "\n",
    "patterns = seed_patterns(widths, W, max_unique_layouts=1)\n",
    "patterns"
   ]
  },
  {
   "cell_type": "markdown",
   "id": "a183ebb6-5811-449e-912e-e3cc0edbd091",
   "metadata": {},
   "source": [
    "Then we perform the linprog task"
   ]
  },
  {
   "cell_type": "code",
   "execution_count": 135,
   "id": "187e65a4-ffec-4d66-8a28-519875a20079",
   "metadata": {},
   "outputs": [
    {
     "name": "stdout",
     "output_type": "stream",
     "text": [
      "[27, 25, 50]\n"
     ]
    }
   ],
   "source": [
    "from scipy.optimize import linprog\n",
    "from math import ceil\n",
    "\n",
    "lhs_ineq = []\n",
    "for pattern in patterns:\n",
    "    \n",
    "    # inset will be our full build of a given \"pattern\"\n",
    "    inset = []\n",
    "    for width in widths:\n",
    "        \n",
    "        # try to access the slitwidth counts, otherwise\n",
    "        # it means none of that slitwidth was included \n",
    "        try:\n",
    "            inset.append(-pattern[0][width])\n",
    "        except:\n",
    "            inset.append(0)\n",
    "\n",
    "    # add inset to the set of equations (patterns)        \n",
    "    lhs_ineq.append(inset)\n",
    "lhs_ineq = np.array(lhs_ineq).T.tolist()\n",
    "\n",
    "# rhs is the min orders we need for each slitwidth\n",
    "rhs_ineq = [-i for i in q]\n",
    "\n",
    "# min x1 + x2 + .... Xn\n",
    "obj = np.ones(len(lhs_ineq[0]))\n",
    "\n",
    "# linprog will determine the minimum number we need\n",
    "# of each pattern\n",
    "result = linprog(c=obj,\n",
    "        A_ub=lhs_ineq,\n",
    "        b_ub=rhs_ineq,\n",
    "        method=\"revised simplex\")\n",
    "\n",
    "X = [ceil(i) for i in result['x']]\n",
    "print(X)"
   ]
  },
  {
   "cell_type": "markdown",
   "id": "997242cc-f63c-47e0-89ea-1b4064a0827e",
   "metadata": {},
   "source": [
    "## The Column Generation Subproblem (CGSP)\n",
    "\n",
    "need to compute the reduced cost of including an additional column"
   ]
  },
  {
   "cell_type": "code",
   "execution_count": 136,
   "id": "56aae375-e54c-4ed5-9093-7e9b69034e50",
   "metadata": {},
   "outputs": [
    {
     "name": "stdout",
     "output_type": "stream",
     "text": [
      "Counter({4: 2, 6: 1})\n",
      "Counter({0.3375: 2, 0.5: 1})\n"
     ]
    },
    {
     "data": {
      "text/plain": [
       "True"
      ]
     },
     "execution_count": 136,
     "metadata": {},
     "output_type": "execute_result"
    }
   ],
   "source": [
    "# from previous solution\n",
    "val = [i/j for i, j in zip(X,q)]\n",
    "\n",
    "wt = [4, 6, 7]\n",
    "W = 15\n",
    "new_wt = []\n",
    "new_val = []\n",
    "for w, v in zip(wt, val):\n",
    "    new_wt += [w]*int(W/w)\n",
    "    new_val += [v]*int(W/w)\n",
    "wt = new_wt\n",
    "val = new_val\n",
    "t = initt(W, val)\n",
    "best = knapsack(wt, val, W, len(val), t)\n",
    "loss = W - best\n",
    "sack = reconstruct(len(val), W, t, wt)\n",
    "pattern = Counter([wt[i] for i in list(sack)])\n",
    "print(pattern)\n",
    "value = Counter([val[i] for i in list(sack)])\n",
    "print(value)\n",
    "\n",
    "total = 0\n",
    "for worth, multiple in value.items():\n",
    "    total += worth * multiple\n",
    "total > 1"
   ]
  },
  {
   "cell_type": "code",
   "execution_count": 137,
   "id": "d7fea34d-646b-40a9-92da-beb8f940d941",
   "metadata": {},
   "outputs": [
    {
     "data": {
      "text/plain": [
       "[[Counter({4: 3}), 3],\n",
       " [Counter({6: 2}), 3],\n",
       " [Counter({7: 2}), 1],\n",
       " [Counter({4: 2, 6: 1}), None]]"
      ]
     },
     "execution_count": 137,
     "metadata": {},
     "output_type": "execute_result"
    }
   ],
   "source": [
    "patterns.append([pattern, None])\n",
    "patterns"
   ]
  },
  {
   "cell_type": "code",
   "execution_count": 138,
   "id": "2621fe74-bb03-48a2-b020-5fd62f869c91",
   "metadata": {},
   "outputs": [
    {
     "name": "stdout",
     "output_type": "stream",
     "text": [
      "[0, 5, 50, 41]\n"
     ]
    }
   ],
   "source": [
    "lhs_ineq = []\n",
    "for pattern in patterns:\n",
    "    \n",
    "    # inset will be our full build of a given \"pattern\"\n",
    "    inset = []\n",
    "    for width in widths:\n",
    "        \n",
    "        # try to access the slitwidth counts, otherwise\n",
    "        # it means none of that slitwidth was included \n",
    "        try:\n",
    "            inset.append(-pattern[0][width])\n",
    "        except:\n",
    "            inset.append(0)\n",
    "\n",
    "    # add inset to the set of equations (patterns)        \n",
    "    lhs_ineq.append(inset)\n",
    "    \n",
    "lhs_ineq = np.array(lhs_ineq).T.tolist()\n",
    "# rhs is the min orders we need for each slitwidth\n",
    "rhs_ineq = [-i for i in q]\n",
    "\n",
    "# min x1 + x2 + .... Xn\n",
    "obj = np.ones(len(lhs_ineq[0]))\n",
    "\n",
    "# linprog will determine the minimum number we need\n",
    "# of each pattern\n",
    "result = linprog(c=obj,\n",
    "        A_ub=lhs_ineq,\n",
    "        b_ub=rhs_ineq,\n",
    "        method=\"revised simplex\")\n",
    "\n",
    "X = [ceil(i) for i in result['x']]\n",
    "print(X)"
   ]
  },
  {
   "cell_type": "code",
   "execution_count": 139,
   "id": "4eb6cf0a-5346-4611-91fa-00bcfb24d673",
   "metadata": {},
   "outputs": [
    {
     "data": {
      "text/plain": [
       "96"
      ]
     },
     "execution_count": 139,
     "metadata": {},
     "output_type": "execute_result"
    }
   ],
   "source": [
    "sum(X)"
   ]
  },
  {
   "cell_type": "code",
   "execution_count": 131,
   "id": "27a98661-2c00-4156-aa01-30184441c4a7",
   "metadata": {},
   "outputs": [],
   "source": [
    "# q is [80, 50, 100]\n",
    "old_X = [27, 25, 50]\n",
    "old_val = [1/3, 1/2, 1/2]"
   ]
  },
  {
   "cell_type": "code",
   "execution_count": 172,
   "id": "104ac19c-f015-4bb9-a9ac-54dcba1a676c",
   "metadata": {},
   "outputs": [
    {
     "name": "stdout",
     "output_type": "stream",
     "text": [
      "4 80\n",
      "0.2733333333333333\n",
      "6 50\n",
      "0.42800000000000005\n",
      "7 100\n",
      "0.5\n"
     ]
    }
   ],
   "source": [
    "# q is [80, 50, 100]\n",
    "# [5, 50, 41]\n",
    "# 7: 1/2 because 50/100\n",
    "# 6: (5+41(6/14))/50\n",
    "# 4: (8/14)*41/80)\n",
    "\n",
    "val = []\n",
    "for width, width_q in zip(widths, q):\n",
    "    print(width, width_q)\n",
    "    cost = 0\n",
    "    for (pattern, loss), count in zip(patterns, X):\n",
    "        if width in pattern:\n",
    "            if len(pattern) > 1:\n",
    "                weight = (pattern[width] * width) / W #sum([i*j for i,j in pattern.items()])\n",
    "                cost += (count * weight)\n",
    "            else:\n",
    "                cost += count\n",
    "    print(cost/width_q)  \n",
    "    val.append(cost/width_q)"
   ]
  },
  {
   "cell_type": "code",
   "execution_count": 168,
   "id": "e1e14c8d-9752-46ad-9a55-d2d39e7b3a65",
   "metadata": {},
   "outputs": [
    {
     "name": "stdout",
     "output_type": "stream",
     "text": [
      "Counter({4: 2, 7: 1})\n",
      "Counter({0.2733333333333333: 2, 0.5: 1})\n"
     ]
    },
    {
     "data": {
      "text/plain": [
       "True"
      ]
     },
     "execution_count": 168,
     "metadata": {},
     "output_type": "execute_result"
    }
   ],
   "source": [
    "# from previous solution\n",
    "# val = [i/j for i, j in zip(X,q)]\n",
    "\n",
    "wt = [4, 6, 7]\n",
    "W = 15\n",
    "new_wt = []\n",
    "new_val = []\n",
    "for w, v in zip(wt, val):\n",
    "    new_wt += [w]*int(W/w)\n",
    "    new_val += [v]*int(W/w)\n",
    "wt = new_wt\n",
    "val = new_val\n",
    "t = initt(W, val)\n",
    "best = knapsack(wt, val, W, len(val), t)\n",
    "loss = W - best\n",
    "sack = reconstruct(len(val), W, t, wt)\n",
    "pattern = Counter([wt[i] for i in list(sack)])\n",
    "print(pattern)\n",
    "value = Counter([val[i] for i in list(sack)])\n",
    "print(value)\n",
    "\n",
    "total = 0\n",
    "for worth, multiple in value.items():\n",
    "    total += worth * multiple\n",
    "total > 1"
   ]
  },
  {
   "cell_type": "code",
   "execution_count": 169,
   "id": "e10b4a07-03d1-44eb-82d1-a934aa93234f",
   "metadata": {},
   "outputs": [
    {
     "data": {
      "text/plain": [
       "1.0466666666666666"
      ]
     },
     "execution_count": 169,
     "metadata": {},
     "output_type": "execute_result"
    }
   ],
   "source": [
    "total"
   ]
  }
 ],
 "metadata": {
  "kernelspec": {
   "display_name": "Python 3 (ipykernel)",
   "language": "python",
   "name": "python3"
  },
  "language_info": {
   "codemirror_mode": {
    "name": "ipython",
    "version": 3
   },
   "file_extension": ".py",
   "mimetype": "text/x-python",
   "name": "python",
   "nbconvert_exporter": "python",
   "pygments_lexer": "ipython3",
   "version": "3.9.7"
  }
 },
 "nbformat": 4,
 "nbformat_minor": 5
}

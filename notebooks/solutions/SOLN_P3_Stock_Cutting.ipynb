{
 "cells": [
  {
   "cell_type": "markdown",
   "id": "58e30857-3872-4ed0-b147-c935be345b7f",
   "metadata": {},
   "source": [
    "<a href=\"https://colab.research.google.com/github/wesleybeckner/deka/blob/main/notebooks/solutions/SOLN_P3_Stock_Cutting.ipynb\" target=\"_parent\"><img src=\"https://colab.research.google.com/assets/colab-badge.svg\" alt=\"Open In Colab\"/></a>"
   ]
  },
  {
   "cell_type": "markdown",
   "id": "927f9f37-fb16-4b33-90c6-b16da7482d21",
   "metadata": {},
   "source": [
    "# Stock Cutting Part 3:<br> The Column Generation Method\n",
    "\n",
    "<br>\n",
    "\n",
    "---\n",
    "\n",
    "<br>\n",
    "\n",
    "In this project notebook we'll be combining our dynamic program from the knapsack problem with a strategy called the _column generation method_\n",
    "\n",
    "<br>\n",
    "\n",
    "---"
   ]
  },
  {
   "cell_type": "markdown",
   "id": "0027752a-130c-4252-a78b-97ab23193533",
   "metadata": {},
   "source": [
    "## 1.0: Import Functions and Libraries"
   ]
  },
  {
   "cell_type": "code",
   "execution_count": 1,
   "id": "a2b5402a-b0c7-4e4e-89f3-42a740881fca",
   "metadata": {},
   "outputs": [],
   "source": [
    "from collections import Counter\n",
    "from itertools import combinations\n",
    "\n",
    "def seed_patterns(_widths, W, max_unique_layouts=3):\n",
    "    patterns = []\n",
    "    for current_max in range(1, max_unique_layouts+1):\n",
    "        pre_sacks = list(combinations(_widths, current_max))\n",
    "        for widths in pre_sacks:\n",
    "            new = []\n",
    "            for w in widths:\n",
    "                new += [w]*int(W/w)\n",
    "            widths = new\n",
    "\n",
    "            t = initt(W, widths)\n",
    "            best = knapsack(widths, widths, W, len(widths), t)\n",
    "            loss = W - best\n",
    "            sack = reconstruct(len(widths), W, t, widths)\n",
    "            pattern = Counter([widths[i] for i in list(sack)])\n",
    "            patterns.append([pattern, loss])\n",
    "    return patterns\n",
    "\n",
    "def initt(W, val):\n",
    "    return [[None for i in range(W + 1)] for j in range(len(val) + 1)]\n",
    "\n",
    "def knapsack(wt, val, w, n, t):\n",
    "    # n, w will be the row, column of our table\n",
    "    # solve the basecase. \n",
    "    if w == 0 or n == 0:\n",
    "        return 0\n",
    "\n",
    "    elif t[n][w] != None:\n",
    "        return t[n][w]\n",
    "\n",
    "    # now include the conditionals\n",
    "    if wt[n-1] <= w:\n",
    "        t[n][w] = max(\n",
    "            knapsack(wt, val, w, n-1, t),\n",
    "            knapsack(wt, val, w-wt[n-1], n-1, t) + val[n-1])\n",
    "        return t[n][w]\n",
    "\n",
    "    elif wt[n-1] > w:\n",
    "        t[n][w] = knapsack(wt, val, w, n-1, t)\n",
    "        return t[n][w]\n",
    "    \n",
    "def reconstruct(N, W, t, wt):\n",
    "    recon = set()\n",
    "    for j in range(N)[::-1]:\n",
    "        if (t[j+1][W] not in t[j]) and (t[j+1][W] != 0):\n",
    "            recon.add(j)\n",
    "            W = W - wt[j] # move columns in table lookup\n",
    "        if W < 0:\n",
    "            break\n",
    "        else:\n",
    "            continue\n",
    "    return recon\n",
    "\n",
    "def test_small_bag():\n",
    "    # the problem parameters\n",
    "    val = [60, 50, 70, 30]\n",
    "    wt = [5, 3, 4, 2]\n",
    "    W = 5\n",
    "\n",
    "    # the known solution\n",
    "    max_val = 80\n",
    "    max_items = [50, 30]\n",
    "\n",
    "    t = initt(W, val)\n",
    "    best = knapsack(wt, val, W, len(val), t)\n",
    "    sack = reconstruct(len(val), W, t, wt)\n",
    "    pattern = Counter([val[i] for i in list(sack)])\n",
    "\n",
    "    assert best == max_val, \"Optimal value not found\"\n",
    "    print(\"Optimal value found\")\n",
    "\n",
    "    assert list(pattern.keys()) == max_items, \"Optimal items not found\"\n",
    "    print(\"Optimal items found\")\n",
    "    \n",
    "def test_val_weight_equality():\n",
    "    # the problem parameters\n",
    "    val = wt = [2, 2, 2, 2, 5, 5, 5, 5]\n",
    "    W = 14\n",
    "\n",
    "    # the known solution\n",
    "    max_val = 14\n",
    "    max_items = Counter([5, 5, 2, 2])\n",
    "\n",
    "    t = initt(W, val)\n",
    "    best = knapsack(wt, val, W, len(val), t)\n",
    "    sack = reconstruct(len(val), W, t, wt)\n",
    "    pattern = Counter([val[i] for i in list(sack)])\n",
    "\n",
    "    assert best == max_val, \"Optimal value not found\"\n",
    "    print(\"Optimal value found\")\n",
    "\n",
    "    assert pattern == max_items, \"Optimal items not found\"\n",
    "    print(\"Optimal items found\")"
   ]
  },
  {
   "cell_type": "code",
   "execution_count": 2,
   "id": "b00c8964-150e-4838-b245-9b1b1e1ab4cc",
   "metadata": {},
   "outputs": [
    {
     "name": "stdout",
     "output_type": "stream",
     "text": [
      "Optimal value found\n",
      "Optimal items found\n"
     ]
    }
   ],
   "source": [
    "test_small_bag()"
   ]
  },
  {
   "cell_type": "code",
   "execution_count": 3,
   "id": "92ba3384-e304-4bfe-969c-39e925c426a4",
   "metadata": {},
   "outputs": [
    {
     "name": "stdout",
     "output_type": "stream",
     "text": [
      "Optimal value found\n",
      "Optimal items found\n"
     ]
    }
   ],
   "source": [
    "test_val_weight_equality()"
   ]
  },
  {
   "cell_type": "code",
   "execution_count": 4,
   "id": "153091f8-9e6b-4b79-bf86-fe1443315ba9",
   "metadata": {},
   "outputs": [
    {
     "data": {
      "text/plain": [
       "[[Counter({170: 23}), 90],\n",
       " [Counter({280: 14}), 80],\n",
       " [Counter({320: 12}), 160],\n",
       " [Counter({170: 12, 280: 7}), 0],\n",
       " [Counter({170: 16, 320: 4}), 0],\n",
       " [Counter({280: 12, 320: 2}), 0],\n",
       " [Counter({170: 12, 280: 7}), 0]]"
      ]
     },
     "execution_count": 4,
     "metadata": {},
     "output_type": "execute_result"
    }
   ],
   "source": [
    "_widths = [170, 280, 320]\n",
    "W = 4000\n",
    "max_unique_layouts = 3\n",
    "\n",
    "seed_patterns(_widths, W)"
   ]
  },
  {
   "cell_type": "markdown",
   "id": "3bcb4713-b672-4ca2-9e6f-3418c461debf",
   "metadata": {},
   "source": [
    "## 2.0 The Restricted Master Problem (RMP)\n",
    "\n",
    "first we create our naieve solutions (restrict 1 layout per pattern)"
   ]
  },
  {
   "cell_type": "code",
   "execution_count": 16,
   "id": "c3a5ebba-9a0e-4ceb-8410-6117213aab56",
   "metadata": {},
   "outputs": [
    {
     "data": {
      "text/plain": [
       "[[Counter({4: 3}), 3], [Counter({6: 2}), 3], [Counter({7: 2}), 1]]"
      ]
     },
     "execution_count": 16,
     "metadata": {},
     "output_type": "execute_result"
    }
   ],
   "source": [
    "q = [80, 50, 100]\n",
    "widths = w = [4, 6, 7]\n",
    "W = 15\n",
    "\n",
    "patterns = seed_patterns(widths, W, max_unique_layouts=1)\n",
    "patterns"
   ]
  },
  {
   "cell_type": "markdown",
   "id": "a183ebb6-5811-449e-912e-e3cc0edbd091",
   "metadata": {},
   "source": [
    "Then we perform the linear programming task. "
   ]
  },
  {
   "cell_type": "code",
   "execution_count": 17,
   "id": "187e65a4-ffec-4d66-8a28-519875a20079",
   "metadata": {},
   "outputs": [
    {
     "name": "stdout",
     "output_type": "stream",
     "text": [
      "[27, 25, 50]\n",
      "total doffs: 102\n"
     ]
    }
   ],
   "source": [
    "from scipy.optimize import linprog\n",
    "from math import ceil\n",
    "import numpy as np\n",
    "\n",
    "lhs_ineq = []\n",
    "for pattern in patterns:\n",
    "    \n",
    "    # inset will be our full build of a given \"pattern\"\n",
    "    inset = []\n",
    "    for width in widths:\n",
    "        \n",
    "        # try to access the slitwidth counts, otherwise\n",
    "        # it means none of that slitwidth was included \n",
    "        try:\n",
    "            inset.append(-pattern[0][width])\n",
    "        except:\n",
    "            inset.append(0)\n",
    "\n",
    "    # add inset to the set of equations (patterns)        \n",
    "    lhs_ineq.append(inset)\n",
    "lhs_ineq = np.array(lhs_ineq).T.tolist()\n",
    "\n",
    "# rhs is the min orders we need for each slitwidth\n",
    "rhs_ineq = [-i for i in q]\n",
    "\n",
    "# min x1 + x2 + .... Xn\n",
    "obj = np.ones(len(lhs_ineq[0]))\n",
    "\n",
    "# linprog will determine the minimum number we need\n",
    "# of each pattern\n",
    "result = linprog(c=obj,\n",
    "        A_ub=lhs_ineq,\n",
    "        b_ub=rhs_ineq,\n",
    "        method=\"revised simplex\")\n",
    "\n",
    "X = [ceil(i) for i in result['x']]\n",
    "print(X)\n",
    "print(f\"total doffs: {sum(X)}\")"
   ]
  },
  {
   "cell_type": "markdown",
   "id": "e84eda35-0323-43b0-b32a-28325cb91edc",
   "metadata": {},
   "source": [
    "These values of `X` are the minimum doffs we need to fulfill our order quantities `q` given a set of patterns, `patterns`.\n",
    "\n",
    "The trick we next employee, is we determine how costly each width is to our solution. We do this by solving the dual variables of the linear program. \n",
    "\n",
    "The dual of a given linear program (LP) is another LP that is derived from the original (the primal) LP. Algorithmically this looks like the following:\n",
    "\n",
    "1. Each variable in the primal LP becomes a constraint in the dual LP\n",
    "2. Each constraint in the primal LP becomes a variable in the dual LP\n",
    "3. The objective direction is inversed – maximum in the primal becomes minimum in the dual and vice versa\n",
    "\n",
    "Notice below we switch the parameter fields for `c` and `b_ub` (the coefficients of the linear objective function and the linear constraint vector). And we take the negative transpose of our system of equations `A_ub`. "
   ]
  },
  {
   "cell_type": "code",
   "execution_count": 18,
   "id": "85b0512a-48e9-44b3-9a6d-a2ffafeebe83",
   "metadata": {},
   "outputs": [
    {
     "data": {
      "text/plain": [
       "[0.3333333333333333, 0.5, 0.5]"
      ]
     },
     "execution_count": 18,
     "metadata": {},
     "output_type": "execute_result"
    }
   ],
   "source": [
    "dual_problem = linprog(c=rhs_ineq,\n",
    "        A_ub=-np.array(lhs_ineq).T,\n",
    "        b_ub=obj,\n",
    "        method=\"revised simplex\")\n",
    "val = [i for i in dual_problem['x']]\n",
    "val"
   ]
  },
  {
   "cell_type": "markdown",
   "id": "1122c341-d143-45d0-ac93-50eb90fb1abc",
   "metadata": {},
   "source": [
    "Roughly, this outcome is similar to the number of doffs dedicated to each width, normalized by the quantity ordered for each width. (Note that this comparison is only approximately true but is meant to give a conceptual guide)."
   ]
  },
  {
   "cell_type": "code",
   "execution_count": 19,
   "id": "d0a869ff-878e-4c96-bc48-32c87a3842e5",
   "metadata": {},
   "outputs": [
    {
     "data": {
      "text/plain": [
       "[0.3375, 0.5, 0.5]"
      ]
     },
     "execution_count": 19,
     "metadata": {},
     "output_type": "execute_result"
    }
   ],
   "source": [
    "[i/j for i, j in zip(X, q)]"
   ]
  },
  {
   "cell_type": "markdown",
   "id": "997242cc-f63c-47e0-89ea-1b4064a0827e",
   "metadata": {},
   "source": [
    "## 3.0 The Column Generation Subproblem (CGSP)\n",
    "\n",
    "Ok. So what was that dual variable stuff all about? We are going to use the dual variable to update the value of each width. That's right, the behavior of each width in reference to the final doff quantities, `X` is used to bias the knapsack problem to give us a pattern that gives preferential treatment to the troublesome widths!"
   ]
  },
  {
   "cell_type": "code",
   "execution_count": 20,
   "id": "56aae375-e54c-4ed5-9093-7e9b69034e50",
   "metadata": {},
   "outputs": [
    {
     "name": "stdout",
     "output_type": "stream",
     "text": [
      "Counter({4: 2, 6: 1})\n",
      "Counter({0.3333333333333333: 2, 0.5: 1})\n"
     ]
    },
    {
     "data": {
      "text/plain": [
       "True"
      ]
     },
     "execution_count": 20,
     "metadata": {},
     "output_type": "execute_result"
    }
   ],
   "source": [
    "wt = [4, 6, 7]\n",
    "W = 15\n",
    "new_wt = []\n",
    "new_val = []\n",
    "for w, v in zip(wt, val):\n",
    "    new_wt += [w]*int(W/w)\n",
    "    new_val += [v]*int(W/w)\n",
    "wt = new_wt\n",
    "val = new_val\n",
    "t = initt(W, val)\n",
    "best = knapsack(wt, val, W, len(val), t)\n",
    "loss = W - best\n",
    "sack = reconstruct(len(val), W, t, wt)\n",
    "pattern = Counter([wt[i] for i in list(sack)])\n",
    "print(pattern)\n",
    "value = Counter([val[i] for i in list(sack)])\n",
    "print(value)\n",
    "\n",
    "total = 0\n",
    "for worth, multiple in value.items():\n",
    "    total += worth * multiple\n",
    "total > 1"
   ]
  },
  {
   "cell_type": "markdown",
   "id": "46f24bac-a336-4aba-84b3-941b84676803",
   "metadata": {},
   "source": [
    "The last conditional above, `total > ` is our criteria for adding the new width to the growing host of patterns to then send to the RMP. If the total worth of the knapsack is greater than 1, this means our RMP will return a new solution with the added pattern that will result in overall fewer doffs."
   ]
  },
  {
   "cell_type": "code",
   "execution_count": 21,
   "id": "d7fea34d-646b-40a9-92da-beb8f940d941",
   "metadata": {},
   "outputs": [
    {
     "data": {
      "text/plain": [
       "[[Counter({4: 3}), 3],\n",
       " [Counter({6: 2}), 3],\n",
       " [Counter({7: 2}), 1],\n",
       " [Counter({4: 2, 6: 1}), None]]"
      ]
     },
     "execution_count": 21,
     "metadata": {},
     "output_type": "execute_result"
    }
   ],
   "source": [
    "patterns.append([pattern, None])\n",
    "patterns"
   ]
  },
  {
   "cell_type": "code",
   "execution_count": 22,
   "id": "2621fe74-bb03-48a2-b020-5fd62f869c91",
   "metadata": {},
   "outputs": [
    {
     "name": "stdout",
     "output_type": "stream",
     "text": [
      "[0, 5, 50, 41]\n"
     ]
    }
   ],
   "source": [
    "lhs_ineq = []\n",
    "for pattern in patterns:\n",
    "    \n",
    "    # inset will be our full build of a given \"pattern\"\n",
    "    inset = []\n",
    "    for width in widths:\n",
    "        \n",
    "        # try to access the slitwidth counts, otherwise\n",
    "        # it means none of that slitwidth was included \n",
    "        try:\n",
    "            inset.append(-pattern[0][width])\n",
    "        except:\n",
    "            inset.append(0)\n",
    "\n",
    "    # add inset to the set of equations (patterns)        \n",
    "    lhs_ineq.append(inset)\n",
    "    \n",
    "lhs_ineq = np.array(lhs_ineq).T.tolist()\n",
    "# rhs is the min orders we need for each slitwidth\n",
    "rhs_ineq = [-i for i in q]\n",
    "\n",
    "# min x1 + x2 + .... Xn\n",
    "obj = np.ones(len(lhs_ineq[0]))\n",
    "\n",
    "# linprog will determine the minimum number we need\n",
    "# of each pattern\n",
    "result = linprog(c=obj,\n",
    "        A_ub=lhs_ineq,\n",
    "        b_ub=rhs_ineq,\n",
    "        method=\"revised simplex\")\n",
    "\n",
    "X = [ceil(i) for i in result['x']]\n",
    "print(X)"
   ]
  },
  {
   "cell_type": "markdown",
   "id": "8d03480b-74af-45e4-b82b-eb4a8a9b36b8",
   "metadata": {},
   "source": [
    "we see that the total number of doffs is reduced from 102 to 96!"
   ]
  },
  {
   "cell_type": "code",
   "execution_count": 24,
   "id": "4eb6cf0a-5346-4611-91fa-00bcfb24d673",
   "metadata": {},
   "outputs": [
    {
     "name": "stdout",
     "output_type": "stream",
     "text": [
      "total doffs: 96\n"
     ]
    }
   ],
   "source": [
    "print(f\"total doffs: {sum(X)}\")"
   ]
  },
  {
   "cell_type": "code",
   "execution_count": 25,
   "id": "104ac19c-f015-4bb9-a9ac-54dcba1a676c",
   "metadata": {},
   "outputs": [
    {
     "data": {
      "text/plain": [
       "[0.25, 0.5, 0.5]"
      ]
     },
     "execution_count": 25,
     "metadata": {},
     "output_type": "execute_result"
    }
   ],
   "source": [
    "dual_problem = linprog(c=rhs_ineq,\n",
    "        A_ub=-np.array(lhs_ineq).T,\n",
    "        b_ub=obj,\n",
    "        method=\"revised simplex\")\n",
    "val = [i for i in dual_problem['x']]\n",
    "val"
   ]
  },
  {
   "cell_type": "code",
   "execution_count": 26,
   "id": "e1e14c8d-9752-46ad-9a55-d2d39e7b3a65",
   "metadata": {},
   "outputs": [
    {
     "name": "stdout",
     "output_type": "stream",
     "text": [
      "Counter({4: 2, 6: 1})\n",
      "Counter({0.25: 2, 0.5: 1})\n"
     ]
    },
    {
     "data": {
      "text/plain": [
       "False"
      ]
     },
     "execution_count": 26,
     "metadata": {},
     "output_type": "execute_result"
    }
   ],
   "source": [
    "wt = [4, 6, 7]\n",
    "W = 15\n",
    "new_wt = []\n",
    "new_val = []\n",
    "for w, v in zip(wt, val):\n",
    "    new_wt += [w]*int(W/w)\n",
    "    new_val += [v]*int(W/w)\n",
    "wt = new_wt\n",
    "val = new_val\n",
    "t = initt(W, val)\n",
    "best = knapsack(wt, val, W, len(val), t)\n",
    "loss = W - best\n",
    "sack = reconstruct(len(val), W, t, wt)\n",
    "pattern = Counter([wt[i] for i in list(sack)])\n",
    "print(pattern)\n",
    "value = Counter([val[i] for i in list(sack)])\n",
    "print(value)\n",
    "\n",
    "total = 0\n",
    "for worth, multiple in value.items():\n",
    "    total += worth * multiple\n",
    "total > 1"
   ]
  },
  {
   "cell_type": "markdown",
   "id": "f785ac03-351c-4c57-ae2a-21c20f00a043",
   "metadata": {},
   "source": [
    "In this case, the knapsack problem does not produce a knapsack with a value greater than 1, and so we discontinue our CGSP!"
   ]
  },
  {
   "cell_type": "code",
   "execution_count": 27,
   "id": "e10b4a07-03d1-44eb-82d1-a934aa93234f",
   "metadata": {},
   "outputs": [
    {
     "data": {
      "text/plain": [
       "1.0"
      ]
     },
     "execution_count": 27,
     "metadata": {},
     "output_type": "execute_result"
    }
   ],
   "source": [
    "total"
   ]
  },
  {
   "cell_type": "markdown",
   "id": "e2a65ccb-0f2f-4962-a25f-865331ce5396",
   "metadata": {},
   "source": [
    "## 4.0 Functions\n",
    "\n",
    "Let's bundle our code into some functions"
   ]
  },
  {
   "cell_type": "code",
   "execution_count": 32,
   "id": "e73c9cf5-c371-4518-8503-8d2e346f0577",
   "metadata": {},
   "outputs": [],
   "source": [
    "from scipy.optimize import linprog\n",
    "from math import ceil\n",
    "import numpy as np\n",
    "\n",
    "def solveX(patterns, widths, q):\n",
    "    lhs_ineq = []\n",
    "    for pattern in patterns:\n",
    "\n",
    "        # inset will be our full build of a given \"pattern\"\n",
    "        inset = []\n",
    "        for width in widths:\n",
    "\n",
    "            # try to access the slitwidth counts, otherwise\n",
    "            # it means none of that slitwidth was included \n",
    "            try:\n",
    "                inset.append(-pattern[0][width])\n",
    "            except:\n",
    "                inset.append(0)\n",
    "\n",
    "        # add inset to the set of equations (patterns)        \n",
    "        lhs_ineq.append(inset)\n",
    "    lhs_ineq = np.array(lhs_ineq).T.tolist()\n",
    "\n",
    "    # rhs is the min orders we need for each slitwidth\n",
    "    rhs_ineq = [-i for i in q]\n",
    "\n",
    "    # min x1 + x2 + .... Xn\n",
    "    obj = np.ones(len(lhs_ineq[0]))\n",
    "\n",
    "    # linprog will determine the minimum number we need\n",
    "    # of each pattern\n",
    "    result = linprog(c=obj,\n",
    "            A_ub=lhs_ineq,\n",
    "            b_ub=rhs_ineq,\n",
    "            method=\"revised simplex\")\n",
    "\n",
    "    X = [ceil(i) for i in result['x']]\n",
    "    \n",
    "    \n",
    "    dual_problem = linprog(c=rhs_ineq,\n",
    "        A_ub=-np.array(lhs_ineq).T,\n",
    "        b_ub=obj,\n",
    "        method=\"revised simplex\")\n",
    "    val = [i for i in dual_problem['x']]\n",
    "    \n",
    "    return X, val\n",
    "\n",
    "def pack_knap(wt, val, W):\n",
    "    new_wt = []\n",
    "    new_val = []\n",
    "    for w, v in zip(wt, val):\n",
    "        new_wt += [w]*int(W/w)\n",
    "        new_val += [v]*int(W/w)\n",
    "    wt = new_wt\n",
    "    val = new_val\n",
    "    t = initt(W, val)\n",
    "    best = knapsack(wt, val, W, len(val), t)\n",
    "    loss = W - best\n",
    "    sack = reconstruct(len(val), W, t, wt)\n",
    "    pattern = Counter([wt[i] for i in list(sack)])\n",
    "    \n",
    "    value = Counter([val[i] for i in list(sack)])\n",
    "    \n",
    "\n",
    "    total = 0\n",
    "    for worth, multiple in value.items():\n",
    "        total += worth * multiple\n",
    "    return pattern, total"
   ]
  },
  {
   "cell_type": "markdown",
   "id": "f6cb9a65-84a1-4c4d-a348-7358d6717743",
   "metadata": {},
   "source": [
    "Starting over with the former example...\n",
    "\n",
    "1. we seed our patterns with the naive solutions"
   ]
  },
  {
   "cell_type": "code",
   "execution_count": 33,
   "id": "a39e9836-a5fe-4192-9cd9-2e76841326d9",
   "metadata": {},
   "outputs": [
    {
     "data": {
      "text/plain": [
       "[[Counter({4: 3}), 3], [Counter({6: 2}), 3], [Counter({7: 2}), 1]]"
      ]
     },
     "execution_count": 33,
     "metadata": {},
     "output_type": "execute_result"
    }
   ],
   "source": [
    "q = [80, 50, 100]\n",
    "widths = w = [4, 6, 7]\n",
    "W = 15\n",
    "\n",
    "patterns = seed_patterns(widths, W, max_unique_layouts=1)\n",
    "patterns"
   ]
  },
  {
   "cell_type": "markdown",
   "id": "ec9a154f-10cd-41b9-b486-cb83666eb2bd",
   "metadata": {},
   "source": [
    "2. We solve the RMP"
   ]
  },
  {
   "cell_type": "code",
   "execution_count": 34,
   "id": "26772bbd-1443-4a5f-8442-3461c4229f67",
   "metadata": {},
   "outputs": [
    {
     "name": "stdout",
     "output_type": "stream",
     "text": [
      "102\n",
      "[27, 25, 50] [0.3333333333333333, 0.5, 0.5]\n"
     ]
    }
   ],
   "source": [
    "X, val = solveX(patterns, widths, q)\n",
    "print(sum(X))\n",
    "print(X, val)"
   ]
  },
  {
   "cell_type": "markdown",
   "id": "47b955ef-26f6-4ec0-9acc-41da8b4c2405",
   "metadata": {},
   "source": [
    "3. We solve the CGSP"
   ]
  },
  {
   "cell_type": "code",
   "execution_count": 130,
   "id": "05be80c5-d6ad-4379-b343-32c0424a7b33",
   "metadata": {},
   "outputs": [
    {
     "name": "stdout",
     "output_type": "stream",
     "text": [
      "Counter({4: 2, 6: 1}) 1.1666666666666665\n",
      "True\n"
     ]
    }
   ],
   "source": [
    "pattern, total = pack_knap(w, val, W)\n",
    "print(pattern, total)\n",
    "print(total > 1)"
   ]
  },
  {
   "cell_type": "markdown",
   "id": "fcf477d5-c4c1-4d10-b593-17495b32ae6d",
   "metadata": {},
   "source": [
    "4. Since the value is greater than 1 we add the pattern to our linprog and solve the RMP again"
   ]
  },
  {
   "cell_type": "code",
   "execution_count": 131,
   "id": "ca7ffcf8-3a70-4a01-878d-e1ebe6e2c1a6",
   "metadata": {},
   "outputs": [
    {
     "name": "stdout",
     "output_type": "stream",
     "text": [
      "96\n",
      "[0, 5, 50, 41] [0.25, 0.5, 0.5]\n",
      "Counter({4: 2, 6: 1}) 1.0\n",
      "False\n"
     ]
    }
   ],
   "source": [
    "patterns.append([pattern, 0])\n",
    "X, val = solveX(patterns, widths, q)\n",
    "print(sum(X))\n",
    "print(X, val)\n",
    "\n",
    "pattern, total = pack_knap(w, val, W)\n",
    "print(pattern, total)\n",
    "print(total > 1)"
   ]
  },
  {
   "cell_type": "markdown",
   "id": "32a88198-329d-40bf-aaf4-9f61d6509b0b",
   "metadata": {},
   "source": [
    "5. We exit when we can no longer find a pattern that would improve the RMP"
   ]
  },
  {
   "cell_type": "markdown",
   "id": "68843024-e36d-41b7-916a-9816fd2611e8",
   "metadata": {},
   "source": [
    "## 5.0 All Together Now"
   ]
  },
  {
   "cell_type": "code",
   "execution_count": 37,
   "id": "579198e8-24bf-4855-aa1a-4bbdf8c4400c",
   "metadata": {},
   "outputs": [
    {
     "name": "stdout",
     "output_type": "stream",
     "text": [
      "\n",
      "total doffs: 96\n",
      "\n",
      "5, Counter({6: 2})\n",
      "50, Counter({7: 2})\n",
      "41, Counter({4: 2, 6: 1})\n"
     ]
    }
   ],
   "source": [
    "q = [80, 50, 100]\n",
    "widths = w = [4, 6, 7]\n",
    "W = 15\n",
    "\n",
    "patterns = seed_patterns(widths, W, max_unique_layouts=1)\n",
    "\n",
    "while True:\n",
    "    X, val = solveX(patterns, widths, q)\n",
    "    pattern, total = pack_knap(w, val, W)\n",
    "    if total > 1:\n",
    "        patterns.append([pattern, 0])\n",
    "        continue\n",
    "    break\n",
    "    \n",
    "print()\n",
    "print(f\"total doffs: {sum(X)}\", end=\"\\n\\n\")\n",
    "for quant, pattern in zip(X, patterns):\n",
    "    if quant > 0:\n",
    "        print(f\"{quant}, {pattern[0]}\")"
   ]
  }
 ],
 "metadata": {
  "kernelspec": {
   "display_name": "Python 3 (ipykernel)",
   "language": "python",
   "name": "python3"
  },
  "language_info": {
   "codemirror_mode": {
    "name": "ipython",
    "version": 3
   },
   "file_extension": ".py",
   "mimetype": "text/x-python",
   "name": "python",
   "nbconvert_exporter": "python",
   "pygments_lexer": "ipython3",
   "version": "3.9.7"
  }
 },
 "nbformat": 4,
 "nbformat_minor": 5
}

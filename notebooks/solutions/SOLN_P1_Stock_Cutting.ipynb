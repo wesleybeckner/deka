{
 "cells": [
  {
   "cell_type": "markdown",
   "id": "58e30857-3872-4ed0-b147-c935be345b7f",
   "metadata": {},
   "source": [
    "<a href=\"https://colab.research.google.com/github/wesleybeckner/decklizer/blob/main/examples/P1_Stock_Cutting.ipynb\" target=\"_parent\"><img src=\"https://colab.research.google.com/assets/colab-badge.svg\" alt=\"Open In Colab\"/></a>"
   ]
  },
  {
   "cell_type": "markdown",
   "id": "927f9f37-fb16-4b33-90c6-b16da7482d21",
   "metadata": {},
   "source": [
    "# Stock Cutting Part 1:<br> Finding Good Patterns\n",
    "\n",
    "<br>\n",
    "\n",
    "---\n",
    "\n",
    "<br>\n",
    "\n",
    "In this project notebook we'll be laying the foundations of stock cutting. We'll begin by discussing the common dynamic programming problem: the knapsack problem\n",
    "\n",
    "<br>\n",
    "\n",
    "---"
   ]
  },
  {
   "cell_type": "markdown",
   "id": "86439f23-9ea1-40d4-b6a3-87bb1e3cf126",
   "metadata": {},
   "source": [
    "## 1.0: What is the knapsack Problem?"
   ]
  },
  {
   "cell_type": "markdown",
   "id": "a1d7f249-3d24-452f-a336-e958b6dec5b8",
   "metadata": {},
   "source": [
    "<p align=center>\n",
    "<img src=\"https://upload.wikimedia.org/wikipedia/commons/thumb/f/fd/Knapsack.svg/500px-Knapsack.svg.png\"></img>\n",
    "</p>\n",
    "\n",
    "**From Wikipedia**:\n",
    "\n",
    "The knapsack problem is a problem in combinatorial optimization: Given a set of items, each with a weight and a value, determine the number of each item to include in a collection so that the total weight is less than or equal to a given limit and the total value is as large as possible. It derives its name from the problem faced by someone who is constrained by a fixed-size knapsack and must fill it with the most valuable items. The problem often arises in resource allocation where the decision makers have to choose from a set of non-divisible projects or tasks under a fixed budget or time constraint, respectively."
   ]
  },
  {
   "cell_type": "markdown",
   "id": "3181bf2a",
   "metadata": {},
   "source": [
    "## 1.2: Simple Knapsack\n",
    "\n",
    "Say we have the following items we want to fit into a bag. Our total weight limit is 8 lbs. The items are worth 1, 2, 5, and 6 dollars apiece and weigh 2, 3, 4, and 5 lbs.\n",
    "\n",
    "```\n",
    "val = [1, 2, 5, 6]\n",
    "wt = [2, 3, 4, 5]\n",
    "W = 8\n",
    "```\n",
    "We may be able to solve in our own minds that the maximum value here is items of value 2 and 6 for a total value of 8 dollars and total weight of 8 lbs. How do we solve this algorithmically?"
   ]
  },
  {
   "cell_type": "code",
   "execution_count": 2,
   "id": "aed998af",
   "metadata": {},
   "outputs": [],
   "source": [
    "val = [1, 2, 5, 6]\n",
    "wt = [2, 3, 4, 5]\n",
    "W = 8"
   ]
  },
  {
   "cell_type": "markdown",
   "id": "d509c683-c03e-41ec-9b57-b779dff7165b",
   "metadata": {},
   "source": [
    "the table we would fill out looks like the following\n",
    "\n",
    "| Value | Weight | 0 | 1 | 2 | 3 | 4 | 5 | 6 | 7 | 8 |\n",
    "|-------|--------|---|---|---|---|---|---|---|---|---|\n",
    "| None  | None   | 0 | 0 | 0 | 0 | 0 | 0 | 0 | 0 | 0 |\n",
    "| 1     | 2      | 0 | 0 | 1 | 1 | 1 | 1 | 1 | 1 | 1 |\n",
    "| 2     | 3      | 0 | 0 | 1 | 2 | 2 | 3 | 3 | 3 | 3 |\n",
    "| 5     | 4      | 0 | 0 | 1 | 2 | 5 | 5 | 6 | 6 | 7 |\n",
    "| 6     | 5      | 0 | 0 | 1 | 2 | 5 | 6 | 6 | 7 | 8 |\n",
    "\n",
    "The column headers (after Value and Weight) indicate the maximum _weight_ allowable under that column. Every row indicates what _items_ are allowable i.e. on row 2 we only consider item 1, on row 3 we consider items 1 _and_ 2, and so forth. \n",
    "\n",
    "Let's walk through a few cells.\n",
    "\n",
    "1. In the first two columns, we can't include any items under this weight restriction, hence all cell values are 0. \n",
    "2. In column 2, row 2, we are able to fit item 1 under this weight constraint, so the value of our knapsack increases to 1\n",
    "3. In the remaining cells of row 2, our value is persistant at a total of 1, since we are only considering the first item in this row\n",
    "4. Moving onto the second row, things get interesting at row 3, column 3\n",
    "    1. if n is our current item, and w is the current weight (i.e. n is the row and w is the column)\n",
    "    2. then we want to fill in the current cell `t[n,w]` with the maximum value: `t[n-1,w]` or `t[n-1, W-wt[n]] + val[n]`\n",
    "\n",
    "Let's make sense of the `max` statement in 4.B. We know that at the current cell, we can always default to the value of the cell above (`t[n-1,w]`). The trick comes in the second part of the `max` statement. We look at the total value if we were to add the current item (`val[n]`), to the value back in the table in the previous row `[n-1]` where the total weight is equal to the current weight under consideration minus the weight of the current item (`W-wt[n]`)\n",
    "\n",
    "Now we'll go into our second point. Take a look at row 4, column 3 (directly below the cell we were considering before) in this case, the weight of the current item (4 lbs) is more than the maximum allowable weight (3 lbs) and so in this case we default to the value in the cell above (`t[n-1, w]`)\n",
    "\n",
    "algorithmically this looks like the following:\n",
    "\n",
    "```\n",
    "if wt[n] <= W:\n",
    "        return max(t[n-1,w], t[n-1, W-wt[n]] + val[n])\n",
    "    \n",
    "elif wt[n] > W:\n",
    "    return t[n-1, w]\n",
    "```"
   ]
  },
  {
   "cell_type": "markdown",
   "id": "9e947894-210c-4fae-8a0c-e7054bd148f0",
   "metadata": {},
   "source": [
    "### 1.2.1 Use recursion to find the optimum value of the knapsack\n",
    "\n",
    "The insight we require is that in the above code block, we want to run this conditional on the bottom right corner of the table, where we have allowed the maximum possible weight in the bag and included all items for consideration. But in order to ask this we need to know the values in the preceding cells of the table! This is where _recurssion_ comes in handy. Our recursive algorithm will return `t[n][w]` for the given parameters of `wt` (weights), `val` (values), `W` (max allowable weight), and, well `t`, the table itself."
   ]
  },
  {
   "cell_type": "markdown",
   "id": "a45b7bd1-b5f1-4170-a941-fe679eb554e2",
   "metadata": {},
   "source": [
    "#### 🎒 Exercise 1: Create the empty table as a list of lists\n",
    "\n",
    "Before writing the knapsack function, we will need to initialize our empty table:"
   ]
  },
  {
   "cell_type": "code",
   "execution_count": 50,
   "id": "e25c0cdc",
   "metadata": {},
   "outputs": [
    {
     "data": {
      "text/plain": [
       "[[None, None, None, None, None, None, None, None, None],\n",
       " [None, None, None, None, None, None, None, None, None],\n",
       " [None, None, None, None, None, None, None, None, None],\n",
       " [None, None, None, None, None, None, None, None, None],\n",
       " [None, None, None, None, None, None, None, None, None]]"
      ]
     },
     "execution_count": 50,
     "metadata": {},
     "output_type": "execute_result"
    }
   ],
   "source": [
    "# We initialize the table. note that I am adding a 0th row and a 0th column\n",
    "# at the top and left of the table respectively. The table\n",
    "# needs to be len(val) + 1 rows and W + 1 columns\n",
    "t = [[None for i in range(W + 1)] for j in range(len(val) + 1)]\n",
    "t"
   ]
  },
  {
   "cell_type": "markdown",
   "id": "f0be5828-b39a-4a6a-8322-687590b0cfea",
   "metadata": {},
   "source": [
    "after you've propery coded out the table wrap this into a function `initt`"
   ]
  },
  {
   "cell_type": "code",
   "execution_count": 93,
   "id": "5db7820d-6ec9-4b4d-b33d-ca90ff6c18d7",
   "metadata": {},
   "outputs": [],
   "source": [
    "# we'll wrap the above into a function for ease of use\n",
    "def initt(W, val):\n",
    "    return [[None for i in range(W + 1)] for j in range(len(val) + 1)]"
   ]
  },
  {
   "cell_type": "markdown",
   "id": "c5b28aaf-2b73-4293-a2cf-6df94915c33c",
   "metadata": {},
   "source": [
    "#### 🎒 Exercise 2: Complete the function `knapsack` using recursion without memoization\n",
    "\n",
    "Note that we need to think about how our indexing will work between the table, `t`, and our list representations of our items, `wt` and `val`. index 0 in our table means _no items_ and _no weight_ whereas in our list index 0 reprents _item 1_ so in the following knapsack function we need to shift all our indexing's of `wt` and `val` backwards by 1 (this is the difference between the code in the function and the mathematical representation in Section 1.2)"
   ]
  },
  {
   "cell_type": "code",
   "execution_count": 51,
   "id": "1a4889c1-09f9-4915-ac22-c3b4a884e4e3",
   "metadata": {},
   "outputs": [],
   "source": [
    "def knapsack(wt, val, w, n, t):\n",
    "    # n, w will be the row, column of our table\n",
    "    # solve the basecase. \n",
    "    if w == 0 or n == 0:\n",
    "        return 0\n",
    "    \n",
    "    # now include the conditionals\n",
    "    if wt[n-1] <= w:\n",
    "        t[n][w] = max(\n",
    "            knapsack(wt, val, w, n-1, t),\n",
    "            knapsack(wt, val, w-wt[n-1], n-1, t) + val[n-1])\n",
    "        return t[n][w]\n",
    "    \n",
    "    elif wt[n-1] > w:\n",
    "        t[n][w] = knapsack(wt, val, w, n-1, t)\n",
    "        return t[n][w]"
   ]
  },
  {
   "cell_type": "code",
   "execution_count": 52,
   "id": "e557439b-f05b-427c-af71-4ff519788767",
   "metadata": {},
   "outputs": [
    {
     "data": {
      "text/plain": [
       "8"
      ]
     },
     "execution_count": 52,
     "metadata": {},
     "output_type": "execute_result"
    }
   ],
   "source": [
    "knapsack(wt, val, W, len(val), t)"
   ]
  },
  {
   "cell_type": "markdown",
   "id": "5d16a0d2-de53-4828-a28b-bf6bf4f5ec5d",
   "metadata": {},
   "source": [
    "If we look at the output of our table, we will see that it matches the one we described in Section 1.2\n",
    "\n",
    "| Value | Weight | 0 | 1 | 2 | 3 | 4 | 5 | 6 | 7 | 8 |\n",
    "|-------|--------|---|---|---|---|---|---|---|---|---|\n",
    "| None  | None   | 0 | 0 | 0 | 0 | 0 | 0 | 0 | 0 | 0 |\n",
    "| 1     | 2      | 0 | 0 | 1 | 1 | 1 | 1 | 1 | 1 | 1 |\n",
    "| 2     | 3      | 0 | 0 | 1 | 2 | 2 | 3 | 3 | 3 | 3 |\n",
    "| 5     | 4      | 0 | 0 | 1 | 2 | 5 | 5 | 6 | 6 | 7 |\n",
    "| 6     | 5      | 0 | 0 | 1 | 2 | 5 | 6 | 6 | 7 | 8 |\n",
    "\n",
    "it turns out that we did not have to visit every cell in the table however, to arrive at the optimal value of our knapsack:"
   ]
  },
  {
   "cell_type": "code",
   "execution_count": 57,
   "id": "d2cefd7f-67d3-47d4-8136-3f740f4fbf81",
   "metadata": {},
   "outputs": [
    {
     "data": {
      "text/plain": [
       "[[None, None, None, None, None, None, None, None, None],\n",
       " [None, 0, None, 1, 1, 1, None, None, 1],\n",
       " [None, None, None, 2, 2, None, None, None, 3],\n",
       " [None, None, None, 2, None, None, None, None, 7],\n",
       " [None, None, None, None, None, None, None, None, 8]]"
      ]
     },
     "execution_count": 57,
     "metadata": {},
     "output_type": "execute_result"
    }
   ],
   "source": [
    "t"
   ]
  },
  {
   "cell_type": "markdown",
   "id": "412cf4c7-2cda-4014-ba4f-753f36912e38",
   "metadata": {},
   "source": [
    "### 1.2.2 Enrichment: use memoization to speed up the solution\n",
    "\n",
    "Memoization is a techniqued used along with recursion to create _dynamic programms_. We let our recursive algorithm know when we've already visited a subproblem by passing along a table (which in this case, we already have)"
   ]
  },
  {
   "cell_type": "markdown",
   "id": "805493f2-dd75-4fe5-8165-2859d8cbc40b",
   "metadata": {},
   "source": [
    "#### 🎒 Exercise 3: Check if we have already visited a location in the table"
   ]
  },
  {
   "cell_type": "code",
   "execution_count": 94,
   "id": "fc504ad1-5d6f-40ff-b0bb-4c6b836b1f56",
   "metadata": {},
   "outputs": [],
   "source": [
    "def knapsack(wt, val, w, n, t):\n",
    "    # n, w will be the row, column of our table\n",
    "    # solve the basecase. \n",
    "    if w == 0 or n == 0:\n",
    "        return 0\n",
    "    \n",
    "    elif t[n][w] != None:\n",
    "        return t[n][w]\n",
    "    \n",
    "    # now include the conditionals\n",
    "    if wt[n-1] <= w:\n",
    "        t[n][w] = max(\n",
    "            knapsack(wt, val, w, n-1, t),\n",
    "            knapsack(wt, val, w-wt[n-1], n-1, t) + val[n-1])\n",
    "        return t[n][w]\n",
    "    \n",
    "    elif wt[n-1] > w:\n",
    "        t[n][w] = knapsack(wt, val, w, n-1, t)\n",
    "        return t[n][w]"
   ]
  },
  {
   "cell_type": "markdown",
   "id": "915dfa25-245e-43ce-ab56-7982e259afe3",
   "metadata": {},
   "source": [
    "### 1.2.3 Reconstruct what items were added to the knapsack by reading the table\n",
    "\n",
    "The next part of the puzzle is to determine what items were added to the knapsack to achieve this optimal result! We can infer this from the table. Take a look at the table again, the algorithm we will envoke is that if the current cell's value does not appear in the previous row, it is because added that row's item! To see what else is in that hypothetical knapsack, we simply move up a row and left the number of columns equal to the last item we added, and repeat the process"
   ]
  },
  {
   "cell_type": "markdown",
   "id": "607fe46b-a55a-4e1f-8e60-6e6b90ea9970",
   "metadata": {},
   "source": [
    "#### 🎒 Exercise 4: Complete the pseudo code below to create a `set` that includes all the items in the knapsack"
   ]
  },
  {
   "cell_type": "code",
   "execution_count": 95,
   "id": "2cd4c25e-69aa-4917-98a4-9c36465c0470",
   "metadata": {},
   "outputs": [
    {
     "data": {
      "text/plain": [
       "{1, 3}"
      ]
     },
     "execution_count": 95,
     "metadata": {},
     "output_type": "execute_result"
    }
   ],
   "source": [
    "recon = set()\n",
    "column = W\n",
    "# we will iterate through the rows of the table from bottom to top\n",
    "for row in range(len(val))[::-1]:\n",
    "    # we know that if the current cell value is not anywhere in the\n",
    "    # previous row, it is because we added that item to the knapsack\n",
    "    # remember that the table indexing is shifted forward compared to\n",
    "    # the list indexes\n",
    "    if t[row+1][column] not in t[row]:\n",
    "        recon.add(row)\n",
    "        # after we add the item, we need to adjust the weight the appropriate\n",
    "        # number of steps\n",
    "        column -= wt[row]\n",
    "        \n",
    "        # we will stop after we reach the 0th (no weight) column\n",
    "        if column < 0:\n",
    "            break\n",
    "        else:\n",
    "            continue\n",
    "recon"
   ]
  },
  {
   "cell_type": "markdown",
   "id": "f9c957dd-265c-4ef8-b684-8bacbce3908a",
   "metadata": {},
   "source": [
    "#### 🎒 Exercise 5: Wrap this in a function called `reconstruct`\n",
    "\n",
    "we see that the output of the reconstruction are the second and fourth items (index starts at 0), which is what we expected! Let's package this into a function"
   ]
  },
  {
   "cell_type": "code",
   "execution_count": 96,
   "id": "bc48052c-e201-4e6f-97e7-4ad894c7ae51",
   "metadata": {},
   "outputs": [],
   "source": [
    "def reconstruct(N, W, t, wt):\n",
    "    recon = set()\n",
    "    for j in range(N)[::-1]:\n",
    "        if t[j+1][W] not in t[j]:\n",
    "            recon.add(j)\n",
    "            W = W - wt[j] # move columns in table lookup\n",
    "        if W < 0:\n",
    "            break\n",
    "        else:\n",
    "            continue\n",
    "    return recon"
   ]
  },
  {
   "cell_type": "markdown",
   "id": "2906ef8c-253c-4c29-8a1b-5fd62dd154d7",
   "metadata": {},
   "source": [
    "Now, to translate these indices to actual items we're going to use a function called _Counter_\n",
    "\n",
    "> Dict subclass for counting hashable items.  Sometimes called a bag\n",
    "or multiset.  Elements are stored as dictionary keys and their counts\n",
    "are stored as dictionary values.\n",
    "\n",
    "We'll use Counter along with Numpy to take our indices/val list and count the number of times an item was used in the solution"
   ]
  },
  {
   "cell_type": "code",
   "execution_count": 97,
   "id": "96ff5f9b-d24c-4165-85bc-4c9e89b00cb4",
   "metadata": {},
   "outputs": [],
   "source": [
    "import numpy as np\n",
    "from collections import Counter"
   ]
  },
  {
   "cell_type": "code",
   "execution_count": 98,
   "id": "ee8f8368",
   "metadata": {},
   "outputs": [
    {
     "data": {
      "text/plain": [
       "Counter({2: 1, 6: 1})"
      ]
     },
     "execution_count": 98,
     "metadata": {},
     "output_type": "execute_result"
    }
   ],
   "source": [
    "sack = reconstruct(len(val), W, t, wt)\n",
    "pattern = Counter(np.array(val)[list(sack)])\n",
    "pattern"
   ]
  },
  {
   "cell_type": "markdown",
   "id": "228cc65f",
   "metadata": {},
   "source": [
    "## 1.3 Unit Tests\n",
    "\n",
    "It is always good practice to test as we go. Let's make sure our algorithm works on some known subproblems"
   ]
  },
  {
   "cell_type": "code",
   "execution_count": 117,
   "id": "15c9f5c0",
   "metadata": {},
   "outputs": [],
   "source": [
    "def test_small_bag():\n",
    "    # the problem parameters\n",
    "    val = [60, 50, 70, 30]\n",
    "    wt = [5, 3, 4, 2]\n",
    "    W = 5\n",
    "    \n",
    "    # the known solution\n",
    "    max_val = 80\n",
    "    max_items = [50, 30]\n",
    "    \n",
    "    t = initt(W, val)\n",
    "    best = knapsack(wt, val, W, len(val), t)\n",
    "    sack = reconstruct(len(val), W, t, wt)\n",
    "    pattern = Counter(np.array(val)[list(sack)])\n",
    "    \n",
    "    assert best == max_val, \"Optimal value not found\"\n",
    "    print(\"Optimal value found\")\n",
    "    \n",
    "    assert list(pattern.keys()) == max_items, \"Optimal items not found\"\n",
    "    print(\"Optimal items found\")"
   ]
  },
  {
   "cell_type": "code",
   "execution_count": 118,
   "id": "8a47aa22",
   "metadata": {},
   "outputs": [
    {
     "name": "stdout",
     "output_type": "stream",
     "text": [
      "Optimal value found\n",
      "Optimal items found\n"
     ]
    }
   ],
   "source": [
    "test_small_bag()"
   ]
  },
  {
   "cell_type": "code",
   "execution_count": 125,
   "id": "a4e618fc-f042-40b8-a31a-6bf5efc501d8",
   "metadata": {},
   "outputs": [],
   "source": [
    "def test_val_weight_equality():\n",
    "    # the problem parameters\n",
    "    val = wt = [2, 2, 2, 2, 5, 5, 5, 5]\n",
    "    W = 14\n",
    "    \n",
    "    # the known solution\n",
    "    max_val = 14\n",
    "    max_items = Counter([5, 5, 2, 2])\n",
    "    \n",
    "    t = initt(W, val)\n",
    "    best = knapsack(wt, val, W, len(val), t)\n",
    "    sack = reconstruct(len(val), W, t, wt)\n",
    "    pattern = Counter(np.array(val)[list(sack)])\n",
    "    \n",
    "    assert best == max_val, \"Optimal value not found\"\n",
    "    print(\"Optimal value found\")\n",
    "    \n",
    "    assert pattern == max_items, \"Optimal items not found\"\n",
    "    print(\"Optimal items found\")"
   ]
  },
  {
   "cell_type": "code",
   "execution_count": 126,
   "id": "08df1943-afc3-4211-8e52-04163a906213",
   "metadata": {},
   "outputs": [
    {
     "name": "stdout",
     "output_type": "stream",
     "text": [
      "Optimal value found\n",
      "Optimal items found\n"
     ]
    }
   ],
   "source": [
    "test_val_weight_equality()"
   ]
  },
  {
   "cell_type": "markdown",
   "id": "a17d09a2-b76f-48ee-b060-ad90fc0fec8e",
   "metadata": {},
   "source": [
    "## 1.4 Save our functions"
   ]
  },
  {
   "cell_type": "code",
   "execution_count": 2,
   "id": "c2e1e861",
   "metadata": {},
   "outputs": [],
   "source": [
    "import numpy as np\n",
    "from collections import Counter\n",
    "\n",
    "def knapsack(wt, val, W, n, t):\n",
    "    \"\"\"\n",
    "    in our particular case, the wt and val of the item are the same\n",
    "    wt/val is 's' and is the items sorted by length, increasing\n",
    "    wt: list\n",
    "        the ordered weights (lengths of the rolls)\n",
    "    val: list\n",
    "        the ordered values (lengths of the rolls)\n",
    "    W: int\n",
    "        the weight of the current knapsack (the used length of the mother roll)\n",
    "    n: int\n",
    "        the number of items in the mother roll\n",
    "    t: list of list\n",
    "        the knapsack table\n",
    "    \"\"\"\n",
    "\n",
    "    # base conditions\n",
    "    if n == 0 or W == 0:\n",
    "        # the first row and first column of the table is filled with 0s\n",
    "        return 0\n",
    "    if t[n][W] != -1: \n",
    "        # already solved at [n][W]\n",
    "        return t[n][W]\n",
    "\n",
    "    # choice diagram code\n",
    "    if wt[n-1] <= W:\n",
    "        # if the previous item under consideration is less than the current\n",
    "        # weight left in the mother roll\n",
    "        \n",
    "        # we can now do 1 of 2 things add the new item in (and take the val\n",
    "        # of the bag at the previous lvl w/o the item) (the answer to the left\n",
    "        # in the table) plus the new wt/val or we use the best answer from one\n",
    "        # fewer items at this weight lvl (the answer above the current cell in\n",
    "        # the table)\n",
    "        # t[n,w] = max{t[n-1,w], t[n-1, w-w[n-1]] + val[n-1]}\n",
    "        # note that in the following wt and val are indexed starting at 0\n",
    "        # but t/knapsack is indexed starting at 1 (index 0 in the table is all\n",
    "        # 0's)\n",
    "        t[n][W] = max(\n",
    "            val[n-1] + knapsack(\n",
    "            wt, val, W-wt[n-1], n-1, t),\n",
    "            knapsack(wt, val, W, n-1, t))\n",
    "        \n",
    "        return t[n][W]\n",
    "    elif wt[n-1] > W:\n",
    "        # if wt/val of the current item under consideration is more than the\n",
    "        # weight left in the bag, we've already found the best solution for \n",
    "        # this number of items\n",
    "        t[n][W] = knapsack(wt, val, W, n-1, t)\n",
    "        return t[n][W]\n",
    "\n",
    "def initt(B, lens):\n",
    "    \"\"\"\n",
    "    t, the returned table, will be a list of lists, but if transformed to \n",
    "    an array it takes the shape of the number of products + 1 (len(s) + 1) \n",
    "    by the usable width + 1 (B + 1)\n",
    "    \"\"\"\n",
    "    # We initialize the matrix with -1 at first.\n",
    "    return [[-1 for i in range(B + 1)] for j in range(lens + 1)]\n",
    "\n",
    "def reconstruct(N, W, t, wt):\n",
    "    recon = set()\n",
    "    for j in range(N)[::-1]:\n",
    "        if t[j+1,W] not in t[j,:]:\n",
    "            recon.add(j)\n",
    "            W = W - wt[j] # move columns in table lookup\n",
    "        if W < 0:\n",
    "            break\n",
    "        else:\n",
    "            continue\n",
    "    return recon"
   ]
  },
  {
   "cell_type": "markdown",
   "id": "6220237a-ee57-465f-855c-5071e9eb7c8b",
   "metadata": {},
   "source": [
    "## 1.5 Lab\n",
    "\n",
    "In the deka repository add our functions to `enginge.py` and our unit_tests to `test_engine.py` make sure you can run the tests via the Makefile"
   ]
  }
 ],
 "metadata": {
  "kernelspec": {
   "display_name": "Python 3 (ipykernel)",
   "language": "python",
   "name": "python3"
  },
  "language_info": {
   "codemirror_mode": {
    "name": "ipython",
    "version": 3
   },
   "file_extension": ".py",
   "mimetype": "text/x-python",
   "name": "python",
   "nbconvert_exporter": "python",
   "pygments_lexer": "ipython3",
   "version": "3.9.7"
  }
 },
 "nbformat": 4,
 "nbformat_minor": 5
}
